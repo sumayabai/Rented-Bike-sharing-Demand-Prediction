{
  "nbformat": 4,
  "nbformat_minor": 0,
  "metadata": {
    "kernelspec": {
      "display_name": "Python 3",
      "language": "python",
      "name": "python3"
    },
    "language_info": {
      "codemirror_mode": {
        "name": "ipython",
        "version": 3
      },
      "file_extension": ".py",
      "mimetype": "text/x-python",
      "name": "python",
      "nbconvert_exporter": "python",
      "pygments_lexer": "ipython3",
      "version": "3.6.6"
    },
    "colab": {
      "name": "Copy of Bike Sharing Demand Prediction - Capstone Project.ipynb(Sumaya Bai)",
      "provenance": [],
      "collapsed_sections": [],
      "include_colab_link": true
    }
  },
  "cells": [
    {
      "cell_type": "markdown",
      "metadata": {
        "id": "view-in-github",
        "colab_type": "text"
      },
      "source": [
        "<a href=\"https://colab.research.google.com/github/sumayabai/Rented-Bike-sharing-Demand-Prediction/blob/main/Copy_of_Bike_Sharing_Demand_Prediction_Capstone_Project_ipynb(Sumaya_Bai).ipynb\" target=\"_parent\"><img src=\"https://colab.research.google.com/assets/colab-badge.svg\" alt=\"Open In Colab\"/></a>"
      ]
    },
    {
      "cell_type": "markdown",
      "metadata": {
        "id": "tOGC-qoyhJeX"
      },
      "source": [
        "# <b><u> Project Title : Seoul Bike Sharing Demand Prediction </u></b>"
      ]
    },
    {
      "cell_type": "markdown",
      "metadata": {
        "id": "Y06xIdG26kRF"
      },
      "source": [
        "## <b> Problem Description </b>\n",
        "\n",
        "### Currently Rental bikes are introduced in many urban cities for the enhancement of mobility comfort. It is important to make the rental bike available and accessible to the public at the right time as it lessens the waiting time. Eventually, providing the city with a stable supply of rental bikes becomes a major concern. The crucial part is the prediction of bike count required at each hour for the stable supply of rental bikes.\n"
      ]
    },
    {
      "cell_type": "markdown",
      "metadata": {
        "id": "AlLxAtlziMbP"
      },
      "source": [
        "## <b> Data Description </b>\n",
        "\n",
        "### <b> The dataset contains weather information (Temperature, Humidity, Windspeed, Visibility, Dewpoint, Solar radiation, Snowfall, Rainfall), the number of bikes rented per hour and date information.</b>\n",
        "\n",
        "\n",
        "### <b>Attribute Information: </b>\n",
        "\n",
        "* ### Date : year-month-day\n",
        "* ### Rented Bike count - Count of bikes rented at each hour\n",
        "* ### Hour - Hour of he day\n",
        "* ### Temperature-Temperature in Celsius\n",
        "* ### Humidity - %\n",
        "* ### Windspeed - m/s\n",
        "* ### Visibility - 10m\n",
        "* ### Dew point temperature - Celsius\n",
        "* ### Solar radiation - MJ/m2\n",
        "* ### Rainfall - mm\n",
        "* ### Snowfall - cm\n",
        "* ### Seasons - Winter, Spring, Summer, Autumn\n",
        "* ### Holiday - Holiday/No holiday\n",
        "* ### Functional Day - NoFunc(Non Functional Hours), Fun(Functional hours)"
      ]
    },
    {
      "cell_type": "code",
      "metadata": {
        "id": "dByMsuzT8Tnw"
      },
      "source": [
        "#import libraries \n",
        "import pandas as pd\n",
        "import numpy as np\n",
        "import matplotlib.pyplot as plt\n",
        "import seaborn as sns\n"
      ],
      "execution_count": null,
      "outputs": []
    },
    {
      "cell_type": "code",
      "metadata": {
        "colab": {
          "base_uri": "https://localhost:8080/"
        },
        "id": "N19tFB3T3OHZ",
        "outputId": "a01d0bb4-daaa-4279-f593-c36cf1559c08"
      },
      "source": [
        "from google.colab import drive\n",
        "drive.mount('/content/drive')"
      ],
      "execution_count": null,
      "outputs": [
        {
          "output_type": "stream",
          "text": [
            "Mounted at /content/drive\n"
          ],
          "name": "stdout"
        }
      ]
    },
    {
      "cell_type": "code",
      "metadata": {
        "id": "H6oLDCi63P4o"
      },
      "source": [
        "# Importing the dataset\n",
        "df = pd.read_csv('/content/drive/My Drive/Capstone2/SeoulBikeData.csv',encoding= 'unicode_escape')\n"
      ],
      "execution_count": null,
      "outputs": []
    },
    {
      "cell_type": "code",
      "metadata": {
        "colab": {
          "base_uri": "https://localhost:8080/",
          "height": 323
        },
        "id": "kx57NDnr3n7H",
        "outputId": "96e177d7-8bba-46fe-92b3-1c7607872f34"
      },
      "source": [
        "df.head()"
      ],
      "execution_count": null,
      "outputs": [
        {
          "output_type": "execute_result",
          "data": {
            "text/html": [
              "<div>\n",
              "<style scoped>\n",
              "    .dataframe tbody tr th:only-of-type {\n",
              "        vertical-align: middle;\n",
              "    }\n",
              "\n",
              "    .dataframe tbody tr th {\n",
              "        vertical-align: top;\n",
              "    }\n",
              "\n",
              "    .dataframe thead th {\n",
              "        text-align: right;\n",
              "    }\n",
              "</style>\n",
              "<table border=\"1\" class=\"dataframe\">\n",
              "  <thead>\n",
              "    <tr style=\"text-align: right;\">\n",
              "      <th></th>\n",
              "      <th>Date</th>\n",
              "      <th>Rented Bike Count</th>\n",
              "      <th>Hour</th>\n",
              "      <th>Temperature(°C)</th>\n",
              "      <th>Humidity(%)</th>\n",
              "      <th>Wind speed (m/s)</th>\n",
              "      <th>Visibility (10m)</th>\n",
              "      <th>Dew point temperature(°C)</th>\n",
              "      <th>Solar Radiation (MJ/m2)</th>\n",
              "      <th>Rainfall(mm)</th>\n",
              "      <th>Snowfall (cm)</th>\n",
              "      <th>Seasons</th>\n",
              "      <th>Holiday</th>\n",
              "      <th>Functioning Day</th>\n",
              "    </tr>\n",
              "  </thead>\n",
              "  <tbody>\n",
              "    <tr>\n",
              "      <th>0</th>\n",
              "      <td>01/12/2017</td>\n",
              "      <td>254</td>\n",
              "      <td>0</td>\n",
              "      <td>-5.2</td>\n",
              "      <td>37</td>\n",
              "      <td>2.2</td>\n",
              "      <td>2000</td>\n",
              "      <td>-17.6</td>\n",
              "      <td>0.0</td>\n",
              "      <td>0.0</td>\n",
              "      <td>0.0</td>\n",
              "      <td>Winter</td>\n",
              "      <td>No Holiday</td>\n",
              "      <td>Yes</td>\n",
              "    </tr>\n",
              "    <tr>\n",
              "      <th>1</th>\n",
              "      <td>01/12/2017</td>\n",
              "      <td>204</td>\n",
              "      <td>1</td>\n",
              "      <td>-5.5</td>\n",
              "      <td>38</td>\n",
              "      <td>0.8</td>\n",
              "      <td>2000</td>\n",
              "      <td>-17.6</td>\n",
              "      <td>0.0</td>\n",
              "      <td>0.0</td>\n",
              "      <td>0.0</td>\n",
              "      <td>Winter</td>\n",
              "      <td>No Holiday</td>\n",
              "      <td>Yes</td>\n",
              "    </tr>\n",
              "    <tr>\n",
              "      <th>2</th>\n",
              "      <td>01/12/2017</td>\n",
              "      <td>173</td>\n",
              "      <td>2</td>\n",
              "      <td>-6.0</td>\n",
              "      <td>39</td>\n",
              "      <td>1.0</td>\n",
              "      <td>2000</td>\n",
              "      <td>-17.7</td>\n",
              "      <td>0.0</td>\n",
              "      <td>0.0</td>\n",
              "      <td>0.0</td>\n",
              "      <td>Winter</td>\n",
              "      <td>No Holiday</td>\n",
              "      <td>Yes</td>\n",
              "    </tr>\n",
              "    <tr>\n",
              "      <th>3</th>\n",
              "      <td>01/12/2017</td>\n",
              "      <td>107</td>\n",
              "      <td>3</td>\n",
              "      <td>-6.2</td>\n",
              "      <td>40</td>\n",
              "      <td>0.9</td>\n",
              "      <td>2000</td>\n",
              "      <td>-17.6</td>\n",
              "      <td>0.0</td>\n",
              "      <td>0.0</td>\n",
              "      <td>0.0</td>\n",
              "      <td>Winter</td>\n",
              "      <td>No Holiday</td>\n",
              "      <td>Yes</td>\n",
              "    </tr>\n",
              "    <tr>\n",
              "      <th>4</th>\n",
              "      <td>01/12/2017</td>\n",
              "      <td>78</td>\n",
              "      <td>4</td>\n",
              "      <td>-6.0</td>\n",
              "      <td>36</td>\n",
              "      <td>2.3</td>\n",
              "      <td>2000</td>\n",
              "      <td>-18.6</td>\n",
              "      <td>0.0</td>\n",
              "      <td>0.0</td>\n",
              "      <td>0.0</td>\n",
              "      <td>Winter</td>\n",
              "      <td>No Holiday</td>\n",
              "      <td>Yes</td>\n",
              "    </tr>\n",
              "  </tbody>\n",
              "</table>\n",
              "</div>"
            ],
            "text/plain": [
              "         Date  Rented Bike Count  Hour  ...  Seasons     Holiday  Functioning Day\n",
              "0  01/12/2017                254     0  ...   Winter  No Holiday              Yes\n",
              "1  01/12/2017                204     1  ...   Winter  No Holiday              Yes\n",
              "2  01/12/2017                173     2  ...   Winter  No Holiday              Yes\n",
              "3  01/12/2017                107     3  ...   Winter  No Holiday              Yes\n",
              "4  01/12/2017                 78     4  ...   Winter  No Holiday              Yes\n",
              "\n",
              "[5 rows x 14 columns]"
            ]
          },
          "metadata": {
            "tags": []
          },
          "execution_count": 4
        }
      ]
    },
    {
      "cell_type": "code",
      "metadata": {
        "id": "I4iCJUSoe2be"
      },
      "source": [
        "df.drop('Dew point temperature(°C)',axis =1,inplace=True)"
      ],
      "execution_count": null,
      "outputs": []
    },
    {
      "cell_type": "code",
      "metadata": {
        "colab": {
          "base_uri": "https://localhost:8080/"
        },
        "id": "AVhu2dsifwSc",
        "outputId": "b9d57efe-0409-4248-c0e9-e42c1960744b"
      },
      "source": [
        "df.head()"
      ],
      "execution_count": null,
      "outputs": [
        {
          "output_type": "execute_result",
          "data": {
            "text/html": [
              "<div>\n",
              "<style scoped>\n",
              "    .dataframe tbody tr th:only-of-type {\n",
              "        vertical-align: middle;\n",
              "    }\n",
              "\n",
              "    .dataframe tbody tr th {\n",
              "        vertical-align: top;\n",
              "    }\n",
              "\n",
              "    .dataframe thead th {\n",
              "        text-align: right;\n",
              "    }\n",
              "</style>\n",
              "<table border=\"1\" class=\"dataframe\">\n",
              "  <thead>\n",
              "    <tr style=\"text-align: right;\">\n",
              "      <th></th>\n",
              "      <th>Date</th>\n",
              "      <th>Rented Bike Count</th>\n",
              "      <th>Hour</th>\n",
              "      <th>Temperature(°C)</th>\n",
              "      <th>Humidity(%)</th>\n",
              "      <th>Wind speed (m/s)</th>\n",
              "      <th>Visibility (10m)</th>\n",
              "      <th>Solar Radiation (MJ/m2)</th>\n",
              "      <th>Rainfall(mm)</th>\n",
              "      <th>Snowfall (cm)</th>\n",
              "      <th>Seasons</th>\n",
              "      <th>Holiday</th>\n",
              "      <th>Functioning Day</th>\n",
              "    </tr>\n",
              "  </thead>\n",
              "  <tbody>\n",
              "    <tr>\n",
              "      <th>0</th>\n",
              "      <td>01/12/2017</td>\n",
              "      <td>254</td>\n",
              "      <td>0</td>\n",
              "      <td>-5.2</td>\n",
              "      <td>37</td>\n",
              "      <td>2.2</td>\n",
              "      <td>2000</td>\n",
              "      <td>0.0</td>\n",
              "      <td>0.0</td>\n",
              "      <td>0.0</td>\n",
              "      <td>Winter</td>\n",
              "      <td>No Holiday</td>\n",
              "      <td>Yes</td>\n",
              "    </tr>\n",
              "    <tr>\n",
              "      <th>1</th>\n",
              "      <td>01/12/2017</td>\n",
              "      <td>204</td>\n",
              "      <td>1</td>\n",
              "      <td>-5.5</td>\n",
              "      <td>38</td>\n",
              "      <td>0.8</td>\n",
              "      <td>2000</td>\n",
              "      <td>0.0</td>\n",
              "      <td>0.0</td>\n",
              "      <td>0.0</td>\n",
              "      <td>Winter</td>\n",
              "      <td>No Holiday</td>\n",
              "      <td>Yes</td>\n",
              "    </tr>\n",
              "    <tr>\n",
              "      <th>2</th>\n",
              "      <td>01/12/2017</td>\n",
              "      <td>173</td>\n",
              "      <td>2</td>\n",
              "      <td>-6.0</td>\n",
              "      <td>39</td>\n",
              "      <td>1.0</td>\n",
              "      <td>2000</td>\n",
              "      <td>0.0</td>\n",
              "      <td>0.0</td>\n",
              "      <td>0.0</td>\n",
              "      <td>Winter</td>\n",
              "      <td>No Holiday</td>\n",
              "      <td>Yes</td>\n",
              "    </tr>\n",
              "    <tr>\n",
              "      <th>3</th>\n",
              "      <td>01/12/2017</td>\n",
              "      <td>107</td>\n",
              "      <td>3</td>\n",
              "      <td>-6.2</td>\n",
              "      <td>40</td>\n",
              "      <td>0.9</td>\n",
              "      <td>2000</td>\n",
              "      <td>0.0</td>\n",
              "      <td>0.0</td>\n",
              "      <td>0.0</td>\n",
              "      <td>Winter</td>\n",
              "      <td>No Holiday</td>\n",
              "      <td>Yes</td>\n",
              "    </tr>\n",
              "    <tr>\n",
              "      <th>4</th>\n",
              "      <td>01/12/2017</td>\n",
              "      <td>78</td>\n",
              "      <td>4</td>\n",
              "      <td>-6.0</td>\n",
              "      <td>36</td>\n",
              "      <td>2.3</td>\n",
              "      <td>2000</td>\n",
              "      <td>0.0</td>\n",
              "      <td>0.0</td>\n",
              "      <td>0.0</td>\n",
              "      <td>Winter</td>\n",
              "      <td>No Holiday</td>\n",
              "      <td>Yes</td>\n",
              "    </tr>\n",
              "  </tbody>\n",
              "</table>\n",
              "</div>"
            ],
            "text/plain": [
              "         Date  Rented Bike Count  Hour  ...  Seasons     Holiday  Functioning Day\n",
              "0  01/12/2017                254     0  ...   Winter  No Holiday              Yes\n",
              "1  01/12/2017                204     1  ...   Winter  No Holiday              Yes\n",
              "2  01/12/2017                173     2  ...   Winter  No Holiday              Yes\n",
              "3  01/12/2017                107     3  ...   Winter  No Holiday              Yes\n",
              "4  01/12/2017                 78     4  ...   Winter  No Holiday              Yes\n",
              "\n",
              "[5 rows x 13 columns]"
            ]
          },
          "metadata": {
            "tags": []
          },
          "execution_count": 20
        }
      ]
    },
    {
      "cell_type": "code",
      "metadata": {
        "colab": {
          "base_uri": "https://localhost:8080/"
        },
        "id": "_2dsEq7d5WuF",
        "outputId": "b9b9ae1c-ff05-4b93-d554-37b9c4418b7e"
      },
      "source": [
        "df.info"
      ],
      "execution_count": null,
      "outputs": [
        {
          "output_type": "execute_result",
          "data": {
            "text/plain": [
              "<bound method DataFrame.info of             Date  Rented Bike Count  Hour  ...  Seasons     Holiday  Functioning Day\n",
              "0     01/12/2017                254     0  ...   Winter  No Holiday              Yes\n",
              "1     01/12/2017                204     1  ...   Winter  No Holiday              Yes\n",
              "2     01/12/2017                173     2  ...   Winter  No Holiday              Yes\n",
              "3     01/12/2017                107     3  ...   Winter  No Holiday              Yes\n",
              "4     01/12/2017                 78     4  ...   Winter  No Holiday              Yes\n",
              "...          ...                ...   ...  ...      ...         ...              ...\n",
              "8755  30/11/2018               1003    19  ...   Autumn  No Holiday              Yes\n",
              "8756  30/11/2018                764    20  ...   Autumn  No Holiday              Yes\n",
              "8757  30/11/2018                694    21  ...   Autumn  No Holiday              Yes\n",
              "8758  30/11/2018                712    22  ...   Autumn  No Holiday              Yes\n",
              "8759  30/11/2018                584    23  ...   Autumn  No Holiday              Yes\n",
              "\n",
              "[8760 rows x 14 columns]>"
            ]
          },
          "metadata": {
            "tags": []
          },
          "execution_count": 29
        }
      ]
    },
    {
      "cell_type": "code",
      "metadata": {
        "colab": {
          "base_uri": "https://localhost:8080/",
          "height": 314
        },
        "id": "qi-C8UJN5YBV",
        "outputId": "160e8811-9c6f-4a67-eb9b-9a8cca15614d"
      },
      "source": [
        "df.describe()"
      ],
      "execution_count": null,
      "outputs": [
        {
          "output_type": "execute_result",
          "data": {
            "text/html": [
              "<div>\n",
              "<style scoped>\n",
              "    .dataframe tbody tr th:only-of-type {\n",
              "        vertical-align: middle;\n",
              "    }\n",
              "\n",
              "    .dataframe tbody tr th {\n",
              "        vertical-align: top;\n",
              "    }\n",
              "\n",
              "    .dataframe thead th {\n",
              "        text-align: right;\n",
              "    }\n",
              "</style>\n",
              "<table border=\"1\" class=\"dataframe\">\n",
              "  <thead>\n",
              "    <tr style=\"text-align: right;\">\n",
              "      <th></th>\n",
              "      <th>Rented Bike Count</th>\n",
              "      <th>Hour</th>\n",
              "      <th>Temperature(°C)</th>\n",
              "      <th>Humidity(%)</th>\n",
              "      <th>Wind speed (m/s)</th>\n",
              "      <th>Visibility (10m)</th>\n",
              "      <th>Dew point temperature(°C)</th>\n",
              "      <th>Solar Radiation (MJ/m2)</th>\n",
              "      <th>Rainfall(mm)</th>\n",
              "      <th>Snowfall (cm)</th>\n",
              "    </tr>\n",
              "  </thead>\n",
              "  <tbody>\n",
              "    <tr>\n",
              "      <th>count</th>\n",
              "      <td>8760.000000</td>\n",
              "      <td>8760.000000</td>\n",
              "      <td>8760.000000</td>\n",
              "      <td>8760.000000</td>\n",
              "      <td>8760.000000</td>\n",
              "      <td>8760.000000</td>\n",
              "      <td>8760.000000</td>\n",
              "      <td>8760.000000</td>\n",
              "      <td>8760.000000</td>\n",
              "      <td>8760.000000</td>\n",
              "    </tr>\n",
              "    <tr>\n",
              "      <th>mean</th>\n",
              "      <td>704.602055</td>\n",
              "      <td>11.500000</td>\n",
              "      <td>12.882922</td>\n",
              "      <td>58.226256</td>\n",
              "      <td>1.724909</td>\n",
              "      <td>1436.825799</td>\n",
              "      <td>4.073813</td>\n",
              "      <td>0.569111</td>\n",
              "      <td>0.148687</td>\n",
              "      <td>0.075068</td>\n",
              "    </tr>\n",
              "    <tr>\n",
              "      <th>std</th>\n",
              "      <td>644.997468</td>\n",
              "      <td>6.922582</td>\n",
              "      <td>11.944825</td>\n",
              "      <td>20.362413</td>\n",
              "      <td>1.036300</td>\n",
              "      <td>608.298712</td>\n",
              "      <td>13.060369</td>\n",
              "      <td>0.868746</td>\n",
              "      <td>1.128193</td>\n",
              "      <td>0.436746</td>\n",
              "    </tr>\n",
              "    <tr>\n",
              "      <th>min</th>\n",
              "      <td>0.000000</td>\n",
              "      <td>0.000000</td>\n",
              "      <td>-17.800000</td>\n",
              "      <td>0.000000</td>\n",
              "      <td>0.000000</td>\n",
              "      <td>27.000000</td>\n",
              "      <td>-30.600000</td>\n",
              "      <td>0.000000</td>\n",
              "      <td>0.000000</td>\n",
              "      <td>0.000000</td>\n",
              "    </tr>\n",
              "    <tr>\n",
              "      <th>25%</th>\n",
              "      <td>191.000000</td>\n",
              "      <td>5.750000</td>\n",
              "      <td>3.500000</td>\n",
              "      <td>42.000000</td>\n",
              "      <td>0.900000</td>\n",
              "      <td>940.000000</td>\n",
              "      <td>-4.700000</td>\n",
              "      <td>0.000000</td>\n",
              "      <td>0.000000</td>\n",
              "      <td>0.000000</td>\n",
              "    </tr>\n",
              "    <tr>\n",
              "      <th>50%</th>\n",
              "      <td>504.500000</td>\n",
              "      <td>11.500000</td>\n",
              "      <td>13.700000</td>\n",
              "      <td>57.000000</td>\n",
              "      <td>1.500000</td>\n",
              "      <td>1698.000000</td>\n",
              "      <td>5.100000</td>\n",
              "      <td>0.010000</td>\n",
              "      <td>0.000000</td>\n",
              "      <td>0.000000</td>\n",
              "    </tr>\n",
              "    <tr>\n",
              "      <th>75%</th>\n",
              "      <td>1065.250000</td>\n",
              "      <td>17.250000</td>\n",
              "      <td>22.500000</td>\n",
              "      <td>74.000000</td>\n",
              "      <td>2.300000</td>\n",
              "      <td>2000.000000</td>\n",
              "      <td>14.800000</td>\n",
              "      <td>0.930000</td>\n",
              "      <td>0.000000</td>\n",
              "      <td>0.000000</td>\n",
              "    </tr>\n",
              "    <tr>\n",
              "      <th>max</th>\n",
              "      <td>3556.000000</td>\n",
              "      <td>23.000000</td>\n",
              "      <td>39.400000</td>\n",
              "      <td>98.000000</td>\n",
              "      <td>7.400000</td>\n",
              "      <td>2000.000000</td>\n",
              "      <td>27.200000</td>\n",
              "      <td>3.520000</td>\n",
              "      <td>35.000000</td>\n",
              "      <td>8.800000</td>\n",
              "    </tr>\n",
              "  </tbody>\n",
              "</table>\n",
              "</div>"
            ],
            "text/plain": [
              "       Rented Bike Count         Hour  ...  Rainfall(mm)  Snowfall (cm)\n",
              "count        8760.000000  8760.000000  ...   8760.000000    8760.000000\n",
              "mean          704.602055    11.500000  ...      0.148687       0.075068\n",
              "std           644.997468     6.922582  ...      1.128193       0.436746\n",
              "min             0.000000     0.000000  ...      0.000000       0.000000\n",
              "25%           191.000000     5.750000  ...      0.000000       0.000000\n",
              "50%           504.500000    11.500000  ...      0.000000       0.000000\n",
              "75%          1065.250000    17.250000  ...      0.000000       0.000000\n",
              "max          3556.000000    23.000000  ...     35.000000       8.800000\n",
              "\n",
              "[8 rows x 10 columns]"
            ]
          },
          "metadata": {
            "tags": []
          },
          "execution_count": 30
        }
      ]
    },
    {
      "cell_type": "code",
      "metadata": {
        "colab": {
          "base_uri": "https://localhost:8080/"
        },
        "id": "eJ6zvkXR5aol",
        "outputId": "69a4bda2-9844-4c60-d15c-5563ccf1cedb"
      },
      "source": [
        "df.dtypes"
      ],
      "execution_count": null,
      "outputs": [
        {
          "output_type": "execute_result",
          "data": {
            "text/plain": [
              "Date                          object\n",
              "Rented Bike Count              int64\n",
              "Hour                           int64\n",
              "Temperature(°C)              float64\n",
              "Humidity(%)                    int64\n",
              "Wind speed (m/s)             float64\n",
              "Visibility (10m)               int64\n",
              "Dew point temperature(°C)    float64\n",
              "Solar Radiation (MJ/m2)      float64\n",
              "Rainfall(mm)                 float64\n",
              "Snowfall (cm)                float64\n",
              "Seasons                       object\n",
              "Holiday                       object\n",
              "Functioning Day               object\n",
              "dtype: object"
            ]
          },
          "metadata": {
            "tags": []
          },
          "execution_count": 31
        }
      ]
    },
    {
      "cell_type": "code",
      "metadata": {
        "colab": {
          "base_uri": "https://localhost:8080/"
        },
        "id": "xYdI0BEIujnM",
        "outputId": "3b75daef-8bfa-463f-941e-c65d11620dd8"
      },
      "source": [
        "#no duplicates\n",
        "duplicate_rows = df[df.duplicated()]\n",
        "print(duplicate_rows.shape) "
      ],
      "execution_count": null,
      "outputs": [
        {
          "output_type": "stream",
          "text": [
            "(0, 14)\n"
          ],
          "name": "stdout"
        }
      ]
    },
    {
      "cell_type": "code",
      "metadata": {
        "colab": {
          "base_uri": "https://localhost:8080/"
        },
        "id": "h1xgjltWDkAq",
        "outputId": "ae332615-2f40-4302-e8e5-36667c4e9328"
      },
      "source": [
        "#null value imputation :\n",
        "df.isnull().sum()\n"
      ],
      "execution_count": null,
      "outputs": [
        {
          "output_type": "execute_result",
          "data": {
            "text/plain": [
              "Date                         0\n",
              "Rented Bike Count            0\n",
              "Hour                         0\n",
              "Temperature(°C)              0\n",
              "Humidity(%)                  0\n",
              "Wind speed (m/s)             0\n",
              "Visibility (10m)             0\n",
              "Dew point temperature(°C)    0\n",
              "Solar Radiation (MJ/m2)      0\n",
              "Rainfall(mm)                 0\n",
              "Snowfall (cm)                0\n",
              "Seasons                      0\n",
              "Holiday                      0\n",
              "Functioning Day              0\n",
              "dtype: int64"
            ]
          },
          "metadata": {
            "tags": []
          },
          "execution_count": 15
        }
      ]
    },
    {
      "cell_type": "code",
      "metadata": {
        "id": "58qdOX_xInZ5",
        "colab": {
          "base_uri": "https://localhost:8080/"
        },
        "outputId": "36768bd2-bb2d-4dae-f51a-c6171dc66355"
      },
      "source": [
        "#strip the date to get the year and month\n",
        "import datetime\n",
        "df[\"Date\"] = pd.to_datetime(df[\"Date\"])\n",
        "df[\"Date\"]\n"
      ],
      "execution_count": null,
      "outputs": [
        {
          "output_type": "execute_result",
          "data": {
            "text/plain": [
              "0      2017-01-12\n",
              "1      2017-01-12\n",
              "2      2017-01-12\n",
              "3      2017-01-12\n",
              "4      2017-01-12\n",
              "          ...    \n",
              "8755   2018-11-30\n",
              "8756   2018-11-30\n",
              "8757   2018-11-30\n",
              "8758   2018-11-30\n",
              "8759   2018-11-30\n",
              "Name: Date, Length: 8760, dtype: datetime64[ns]"
            ]
          },
          "metadata": {
            "tags": []
          },
          "execution_count": 5
        }
      ]
    },
    {
      "cell_type": "code",
      "metadata": {
        "id": "A0lSNdgtfPNh"
      },
      "source": [
        "df['year'] = df['Date'].dt.year\n",
        "df['month'] = df['Date'].dt.month\n",
        "df['weekday'] = df['Date'].dt.weekday"
      ],
      "execution_count": null,
      "outputs": []
    },
    {
      "cell_type": "code",
      "metadata": {
        "id": "i4bHgWhWgPmv"
      },
      "source": [
        ""
      ],
      "execution_count": null,
      "outputs": []
    },
    {
      "cell_type": "markdown",
      "metadata": {
        "id": "jrICsaAyxQVJ"
      },
      "source": [
        "EDA"
      ]
    },
    {
      "cell_type": "code",
      "metadata": {
        "colab": {
          "base_uri": "https://localhost:8080/",
          "height": 296
        },
        "id": "YKkYweW2Dtfp",
        "outputId": "019a7067-f571-4c82-836b-96b48b450feb"
      },
      "source": [
        "# plotting seasons against count of rented bikes\n",
        "sns.barplot(x = 'Seasons', y = 'Rented Bike Count', data = df)\n"
      ],
      "execution_count": null,
      "outputs": [
        {
          "output_type": "execute_result",
          "data": {
            "text/plain": [
              "<matplotlib.axes._subplots.AxesSubplot at 0x7f76e4d47b10>"
            ]
          },
          "metadata": {
            "tags": []
          },
          "execution_count": 9
        },
        {
          "output_type": "display_data",
          "data": {
            "image/png": "[encoded data removed]",
            "text/plain": [
              "<Figure size 432x288 with 1 Axes>"
            ]
          },
          "metadata": {
            "tags": [],
            "needs_background": "light"
          }
        }
      ]
    },
    {
      "cell_type": "code",
      "metadata": {
        "colab": {
          "base_uri": "https://localhost:8080/",
          "height": 296
        },
        "id": "J8O3eDeLHFCW",
        "outputId": "b9397551-c3d7-43bc-a7b4-2582fbe3650a"
      },
      "source": [
        "# plotting Holiday against count of rented bikes\n",
        "sns.barplot(x = 'Holiday', y = 'Rented Bike Count', data = df)\n"
      ],
      "execution_count": null,
      "outputs": [
        {
          "output_type": "execute_result",
          "data": {
            "text/plain": [
              "<matplotlib.axes._subplots.AxesSubplot at 0x7f76e4caa690>"
            ]
          },
          "metadata": {
            "tags": []
          },
          "execution_count": 10
        },
        {
          "output_type": "display_data",
          "data": {
            "image/png": "[encoded data removed]",
            "text/plain": [
              "<Figure size 432x288 with 1 Axes>"
            ]
          },
          "metadata": {
            "tags": [],
            "needs_background": "light"
          }
        }
      ]
    },
    {
      "cell_type": "code",
      "metadata": {
        "colab": {
          "base_uri": "https://localhost:8080/",
          "height": 296
        },
        "id": "jHwzrtxcM99W",
        "outputId": "468c1f9b-a509-402d-d017-4aeb48c18ff9"
      },
      "source": [
        "# plotting Functioning Day against count of rented bikes\n",
        "sns.barplot(x = 'Functioning Day', y = 'Rented Bike Count', data = df)"
      ],
      "execution_count": null,
      "outputs": [
        {
          "output_type": "execute_result",
          "data": {
            "text/plain": [
              "<matplotlib.axes._subplots.AxesSubplot at 0x7fe04025db10>"
            ]
          },
          "metadata": {
            "tags": []
          },
          "execution_count": 28
        },
        {
          "output_type": "display_data",
          "data": {
            "image/png": "[encoded data removed]",
            "text/plain": [
              "<Figure size 432x288 with 1 Axes>"
            ]
          },
          "metadata": {
            "tags": [],
            "needs_background": "light"
          }
        }
      ]
    },
    {
      "cell_type": "code",
      "metadata": {
        "colab": {
          "base_uri": "https://localhost:8080/",
          "height": 367
        },
        "id": "GxWmgdP4TFwn",
        "outputId": "09248afb-608f-46be-ca05-980d11dd8bc4"
      },
      "source": [
        "#which year had more rents\n",
        "\n",
        "plt.figure(figsize=(10,5))\n",
        "ax = sns.countplot(x=\"year\", data=df)\n",
        "plt.title('Year',weight='bold')\n",
        "plt.xlabel('Years')\n",
        "plt.ylabel('Count')"
      ],
      "execution_count": null,
      "outputs": [
        {
          "output_type": "execute_result",
          "data": {
            "text/plain": [
              "Text(0, 0.5, 'Count')"
            ]
          },
          "metadata": {
            "tags": []
          },
          "execution_count": 44
        },
        {
          "output_type": "display_data",
          "data": {
            "image/png": "[encoded data removed]",
            "text/plain": [
              "<Figure size 720x360 with 1 Axes>"
            ]
          },
          "metadata": {
            "tags": [],
            "needs_background": "light"
          }
        }
      ]
    },
    {
      "cell_type": "code",
      "metadata": {
        "colab": {
          "base_uri": "https://localhost:8080/",
          "height": 404
        },
        "id": "A0pegrwNT6eI",
        "outputId": "6646f248-6455-4c1b-9630-8ea3bf7eaf27"
      },
      "source": [
        "#month \n",
        "plt.figure(figsize=(12,6))\n",
        "ax = sns.barplot(x='month', y='Rented Bike Count', data=df)\n",
        "ax.set_title('Variation of count with months')\n",
        "\n",
        "tick_val=[0,1 , 2, 3, 4 , 5 , 6 , 7 , 8 , 9 , 10 , 11]\n",
        "tick_lab=['Jan','Feb','March','April','May','June','July','Aug','Sept','Oct','Nov','Dec']\n",
        "plt.xticks(tick_val, tick_lab)\n",
        "plt.show()"
      ],
      "execution_count": null,
      "outputs": [
        {
          "output_type": "display_data",
          "data": {
            "image/png": "[encoded data removed]",
            "text/plain": [
              "<Figure size 864x432 with 1 Axes>"
            ]
          },
          "metadata": {
            "tags": [],
            "needs_background": "light"
          }
        }
      ]
    },
    {
      "cell_type": "code",
      "metadata": {
        "colab": {
          "base_uri": "https://localhost:8080/",
          "height": 295
        },
        "id": "SDKgPtGbezVc",
        "outputId": "b2699859-3883-4020-cb75-cc1422ab87f4"
      },
      "source": [
        "\n",
        "#weekday\n",
        "ax = sns.barplot(x=\"weekday\",y='Rented Bike Count',data=df)\n",
        "ax.set_title('Variation of count with day of the week')\n",
        "tick_val=[0, 1, 2, 3, 4, 5, 6]\n",
        "tick_lab=['Sun', 'Mon', 'Tues', 'Wed', 'Thurs', 'Fri', 'Sat']\n",
        "plt.xticks(tick_val, tick_lab)\n",
        "plt.show()"
      ],
      "execution_count": null,
      "outputs": [
        {
          "output_type": "display_data",
          "data": {
            "image/png": "[encoded data removed]",
            "text/plain": [
              "<Figure size 432x288 with 1 Axes>"
            ]
          },
          "metadata": {
            "tags": [],
            "needs_background": "light"
          }
        }
      ]
    },
    {
      "cell_type": "code",
      "metadata": {
        "colab": {
          "base_uri": "https://localhost:8080/",
          "height": 513
        },
        "id": "OBnOGXs5UEcg",
        "outputId": "38a87ca8-a96f-4e0d-e231-49d1d059b810"
      },
      "source": [
        "#plot the new data into a line plot\n",
        "plt.figure(figsize=(12, 8))\n",
        "sns.lineplot(x = \"month\", y=\"Rented Bike Count\", hue=\"year\", data=df, \n",
        "              size='year', sizes=(5.5, 2.5))\n",
        "plt.title(\"Rented Bikes Count Per Month\",weight ='bold')\n",
        "plt.xlabel(\"Month\")\n",
        "tick_val=[0,1 , 2, 3, 4 , 5 , 6 , 7 , 8 , 9 , 10 , 11]\n",
        "tick_lab=['Jan','Feb','March','April','May','June','July','Aug','Sept','Oct','Nov','Dec']\n",
        "plt.xticks(tick_val, tick_lab)\n",
        "plt.ylabel(\"Rented Bike Count\")\n",
        "plt.show()"
      ],
      "execution_count": null,
      "outputs": [
        {
          "output_type": "display_data",
          "data": {
            "image/png": "[encoded data removed]",
            "text/plain": [
              "<Figure size 864x576 with 1 Axes>"
            ]
          },
          "metadata": {
            "tags": [],
            "needs_background": "light"
          }
        }
      ]
    },
    {
      "cell_type": "code",
      "metadata": {
        "colab": {
          "base_uri": "https://localhost:8080/",
          "height": 513
        },
        "id": "arbX5ScFUnAF",
        "outputId": "bc2eb21a-6fbb-458d-8274-68dc217bdebd"
      },
      "source": [
        "#hour and bike count\n",
        "plt.figure(figsize=(12, 8))\n",
        "sns.lineplot(x = \"Hour\", y=\"Rented Bike Count\", hue=\"year\", data=df, \n",
        "              size='year', sizes=(5.5, 2.5))\n",
        "plt.title(\"Rented Bikes Count Per Hour\",weight ='bold')\n",
        "plt.xlabel(\"Hours\")\n",
        "plt.ylabel(\"Rented Bike Count\")\n",
        "plt.show()"
      ],
      "execution_count": null,
      "outputs": [
        {
          "output_type": "display_data",
          "data": {
            "image/png": "[encoded data removed]",
            "text/plain": [
              "<Figure size 864x576 with 1 Axes>"
            ]
          },
          "metadata": {
            "tags": [],
            "needs_background": "light"
          }
        }
      ]
    },
    {
      "cell_type": "code",
      "metadata": {
        "id": "h33bcy5IVzHV",
        "colab": {
          "base_uri": "https://localhost:8080/",
          "height": 295
        },
        "outputId": "76fc576b-7702-4b85-c68d-0305a976a24f"
      },
      "source": [
        "#dependent variable is Rented Bike count:\n",
        "#to check any outliers, and distribution of this variable.\n",
        "from scipy import stats\n",
        "plt = stats.probplot(df['Rented Bike Count'], plot=sns.mpl.pyplot)"
      ],
      "execution_count": null,
      "outputs": [
        {
          "output_type": "display_data",
          "data": {
            "image/png": "[encoded data removed]",
            "text/plain": [
              "<Figure size 432x288 with 1 Axes>"
            ]
          },
          "metadata": {
            "tags": [],
            "needs_background": "light"
          }
        }
      ]
    },
    {
      "cell_type": "code",
      "metadata": {
        "colab": {
          "base_uri": "https://localhost:8080/",
          "height": 296
        },
        "id": "6nU6EHOnC3C6",
        "outputId": "7914485a-908d-4dc3-92bf-0f5733256e45"
      },
      "source": [
        "sns.boxplot(x = 'Rented Bike Count', data = df, color = 'mediumpurple')\n"
      ],
      "execution_count": null,
      "outputs": [
        {
          "output_type": "execute_result",
          "data": {
            "text/plain": [
              "<matplotlib.axes._subplots.AxesSubplot at 0x7f0e093ea150>"
            ]
          },
          "metadata": {
            "tags": []
          },
          "execution_count": 8
        },
        {
          "output_type": "display_data",
          "data": {
            "image/png": "[encoded data removed]",
            "text/plain": [
              "<Figure size 432x288 with 1 Axes>"
            ]
          },
          "metadata": {
            "tags": [],
            "needs_background": "light"
          }
        }
      ]
    },
    {
      "cell_type": "code",
      "metadata": {
        "colab": {
          "base_uri": "https://localhost:8080/"
        },
        "id": "E3E_LKuXD2Q3",
        "outputId": "ed0e6916-0b72-4d10-8c25-d42dd3aa7ff9"
      },
      "source": [
        "#calculate the number of outliers:\n",
        "Q1 = df['Rented Bike Count'].quantile(0.25)\n",
        "Q3 = df['Rented Bike Count'].quantile(0.75)\n",
        "IQR = Q3-Q1\n",
        "outliers = df[(df['Rented Bike Count'] < (Q1 - 1.5 * IQR)) | (df['Rented Bike Count'] > (Q3 + 1.5 * IQR))]\n",
        "# print((len(outliers)/len(df))*100)\n",
        "print(outliers)"
      ],
      "execution_count": null,
      "outputs": [
        {
          "output_type": "stream",
          "text": [
            "            Date  Rented Bike Count  Hour  ...  Seasons     Holiday  Functioning Day\n",
            "2946  02/04/2018               2401    18  ...   Spring  No Holiday              Yes\n",
            "2994  04/04/2018               2402    18  ...   Spring  No Holiday              Yes\n",
            "3114  09/04/2018               2401    18  ...   Spring  No Holiday              Yes\n",
            "3210  13/04/2018               2404    18  ...   Spring  No Holiday              Yes\n",
            "3282  16/04/2018               2692    18  ...   Spring  No Holiday              Yes\n",
            "...          ...                ...   ...  ...      ...         ...              ...\n",
            "7746  19/10/2018               2631    18  ...   Autumn  No Holiday              Yes\n",
            "7818  22/10/2018               2613    18  ...   Autumn  No Holiday              Yes\n",
            "7842  23/10/2018               2415    18  ...   Autumn  No Holiday              Yes\n",
            "7866  24/10/2018               2612    18  ...   Autumn  No Holiday              Yes\n",
            "7890  25/10/2018               2632    18  ...   Autumn  No Holiday              Yes\n",
            "\n",
            "[158 rows x 14 columns]\n"
          ],
          "name": "stdout"
        }
      ]
    },
    {
      "cell_type": "markdown",
      "metadata": {
        "id": "frB7HiFcE6py"
      },
      "source": [
        "This says that 1.8% are above Q3+1.5 which are the outliers.\n"
      ]
    },
    {
      "cell_type": "code",
      "metadata": {
        "colab": {
          "base_uri": "https://localhost:8080/",
          "height": 412
        },
        "id": "CspSh-jZG7go",
        "outputId": "58b0f380-aaa5-4d09-dd65-095b93628eb1"
      },
      "source": [
        "\n",
        "df1 = df.corr()\n",
        "\n",
        "sns.heatmap(df1, annot = True, cmap = 'coolwarm', linecolor = 'white', linewidths=0.1)"
      ],
      "execution_count": null,
      "outputs": [
        {
          "output_type": "execute_result",
          "data": {
            "text/plain": [
              "<matplotlib.axes._subplots.AxesSubplot at 0x7f76e3c58610>"
            ]
          },
          "metadata": {
            "tags": []
          },
          "execution_count": 17
        },
        {
          "output_type": "display_data",
          "data": {
            "image/png": "[encoded data removed]",
            "text/plain": [
              "<Figure size 432x288 with 2 Axes>"
            ]
          },
          "metadata": {
            "tags": [],
            "needs_background": "light"
          }
        }
      ]
    },
    {
      "cell_type": "markdown",
      "metadata": {
        "id": "QQvSmHBmgS9u"
      },
      "source": [
        "Categorical variable Conversion\n",
        "\n"
      ]
    },
    {
      "cell_type": "code",
      "metadata": {
        "id": "Vq3IJGbBgGBU"
      },
      "source": [
        "df = pd.get_dummies(df, columns=['Seasons','Holiday','Functioning Day'], prefix=[\"season\",'hol','fnc'])"
      ],
      "execution_count": null,
      "outputs": []
    },
    {
      "cell_type": "code",
      "metadata": {
        "colab": {
          "base_uri": "https://localhost:8080/",
          "height": 258
        },
        "id": "_41Oi9ntgWC9",
        "outputId": "2319dd86-e53d-4bf4-ee30-74217f1aa58a"
      },
      "source": [
        "df.head()"
      ],
      "execution_count": null,
      "outputs": [
        {
          "output_type": "execute_result",
          "data": {
            "text/html": [
              "<div>\n",
              "<style scoped>\n",
              "    .dataframe tbody tr th:only-of-type {\n",
              "        vertical-align: middle;\n",
              "    }\n",
              "\n",
              "    .dataframe tbody tr th {\n",
              "        vertical-align: top;\n",
              "    }\n",
              "\n",
              "    .dataframe thead th {\n",
              "        text-align: right;\n",
              "    }\n",
              "</style>\n",
              "<table border=\"1\" class=\"dataframe\">\n",
              "  <thead>\n",
              "    <tr style=\"text-align: right;\">\n",
              "      <th></th>\n",
              "      <th>Date</th>\n",
              "      <th>Rented Bike Count</th>\n",
              "      <th>Hour</th>\n",
              "      <th>Temperature(°C)</th>\n",
              "      <th>Humidity(%)</th>\n",
              "      <th>Wind speed (m/s)</th>\n",
              "      <th>Visibility (10m)</th>\n",
              "      <th>Dew point temperature(°C)</th>\n",
              "      <th>Solar Radiation (MJ/m2)</th>\n",
              "      <th>Rainfall(mm)</th>\n",
              "      <th>Snowfall (cm)</th>\n",
              "      <th>season_Autumn</th>\n",
              "      <th>season_Spring</th>\n",
              "      <th>season_Summer</th>\n",
              "      <th>season_Winter</th>\n",
              "      <th>hol_Holiday</th>\n",
              "      <th>hol_No Holiday</th>\n",
              "      <th>fnc_No</th>\n",
              "      <th>fnc_Yes</th>\n",
              "    </tr>\n",
              "  </thead>\n",
              "  <tbody>\n",
              "    <tr>\n",
              "      <th>0</th>\n",
              "      <td>01/12/2017</td>\n",
              "      <td>254</td>\n",
              "      <td>0</td>\n",
              "      <td>-5.2</td>\n",
              "      <td>37</td>\n",
              "      <td>2.2</td>\n",
              "      <td>2000</td>\n",
              "      <td>-17.6</td>\n",
              "      <td>0.0</td>\n",
              "      <td>0.0</td>\n",
              "      <td>0.0</td>\n",
              "      <td>0</td>\n",
              "      <td>0</td>\n",
              "      <td>0</td>\n",
              "      <td>1</td>\n",
              "      <td>0</td>\n",
              "      <td>1</td>\n",
              "      <td>0</td>\n",
              "      <td>1</td>\n",
              "    </tr>\n",
              "    <tr>\n",
              "      <th>1</th>\n",
              "      <td>01/12/2017</td>\n",
              "      <td>204</td>\n",
              "      <td>1</td>\n",
              "      <td>-5.5</td>\n",
              "      <td>38</td>\n",
              "      <td>0.8</td>\n",
              "      <td>2000</td>\n",
              "      <td>-17.6</td>\n",
              "      <td>0.0</td>\n",
              "      <td>0.0</td>\n",
              "      <td>0.0</td>\n",
              "      <td>0</td>\n",
              "      <td>0</td>\n",
              "      <td>0</td>\n",
              "      <td>1</td>\n",
              "      <td>0</td>\n",
              "      <td>1</td>\n",
              "      <td>0</td>\n",
              "      <td>1</td>\n",
              "    </tr>\n",
              "    <tr>\n",
              "      <th>2</th>\n",
              "      <td>01/12/2017</td>\n",
              "      <td>173</td>\n",
              "      <td>2</td>\n",
              "      <td>-6.0</td>\n",
              "      <td>39</td>\n",
              "      <td>1.0</td>\n",
              "      <td>2000</td>\n",
              "      <td>-17.7</td>\n",
              "      <td>0.0</td>\n",
              "      <td>0.0</td>\n",
              "      <td>0.0</td>\n",
              "      <td>0</td>\n",
              "      <td>0</td>\n",
              "      <td>0</td>\n",
              "      <td>1</td>\n",
              "      <td>0</td>\n",
              "      <td>1</td>\n",
              "      <td>0</td>\n",
              "      <td>1</td>\n",
              "    </tr>\n",
              "    <tr>\n",
              "      <th>3</th>\n",
              "      <td>01/12/2017</td>\n",
              "      <td>107</td>\n",
              "      <td>3</td>\n",
              "      <td>-6.2</td>\n",
              "      <td>40</td>\n",
              "      <td>0.9</td>\n",
              "      <td>2000</td>\n",
              "      <td>-17.6</td>\n",
              "      <td>0.0</td>\n",
              "      <td>0.0</td>\n",
              "      <td>0.0</td>\n",
              "      <td>0</td>\n",
              "      <td>0</td>\n",
              "      <td>0</td>\n",
              "      <td>1</td>\n",
              "      <td>0</td>\n",
              "      <td>1</td>\n",
              "      <td>0</td>\n",
              "      <td>1</td>\n",
              "    </tr>\n",
              "    <tr>\n",
              "      <th>4</th>\n",
              "      <td>01/12/2017</td>\n",
              "      <td>78</td>\n",
              "      <td>4</td>\n",
              "      <td>-6.0</td>\n",
              "      <td>36</td>\n",
              "      <td>2.3</td>\n",
              "      <td>2000</td>\n",
              "      <td>-18.6</td>\n",
              "      <td>0.0</td>\n",
              "      <td>0.0</td>\n",
              "      <td>0.0</td>\n",
              "      <td>0</td>\n",
              "      <td>0</td>\n",
              "      <td>0</td>\n",
              "      <td>1</td>\n",
              "      <td>0</td>\n",
              "      <td>1</td>\n",
              "      <td>0</td>\n",
              "      <td>1</td>\n",
              "    </tr>\n",
              "  </tbody>\n",
              "</table>\n",
              "</div>"
            ],
            "text/plain": [
              "         Date  Rented Bike Count  Hour  ...  hol_No Holiday  fnc_No  fnc_Yes\n",
              "0  01/12/2017                254     0  ...               1       0        1\n",
              "1  01/12/2017                204     1  ...               1       0        1\n",
              "2  01/12/2017                173     2  ...               1       0        1\n",
              "3  01/12/2017                107     3  ...               1       0        1\n",
              "4  01/12/2017                 78     4  ...               1       0        1\n",
              "\n",
              "[5 rows x 19 columns]"
            ]
          },
          "metadata": {
            "tags": []
          },
          "execution_count": 6
        }
      ]
    },
    {
      "cell_type": "markdown",
      "metadata": {
        "id": "BlNNB4CNgcfv"
      },
      "source": [
        "Identify the dependent and independent variable"
      ]
    },
    {
      "cell_type": "code",
      "metadata": {
        "colab": {
          "base_uri": "https://localhost:8080/"
        },
        "id": "tR2IncZAx8XB",
        "outputId": "ca8e19cf-934d-45d9-a43c-8895c261f305"
      },
      "source": [
        "#check for multicollinearity\n",
        "\n",
        "from statsmodels.stats.outliers_influence import variance_inflation_factor\n",
        "vif_data = pd.DataFrame()\n",
        "vif_data[\"feature\"] = feature_x.columns\n",
        "\n",
        "# calculating VIF for each feature\n",
        "vif_data[\"VIF\"] = [variance_inflation_factor(feature_x.values, i)\n",
        "                          for i in range(len(feature_x.columns))]\n",
        "  \n",
        "print(vif_data)"
      ],
      "execution_count": null,
      "outputs": [
        {
          "output_type": "stream",
          "text": [
            "/usr/local/lib/python3.7/dist-packages/statsmodels/tools/_testing.py:19: FutureWarning: pandas.util.testing is deprecated. Use the functions in the public API at pandas.testing instead.\n",
            "  import pandas.util.testing as tm\n"
          ],
          "name": "stderr"
        },
        {
          "output_type": "stream",
          "text": [
            "                    feature       VIF\n",
            "0                      Hour  1.210350\n",
            "1           Temperature(°C)  5.215574\n",
            "2               Humidity(%)  2.644038\n",
            "3          Wind speed (m/s)  1.306187\n",
            "4          Visibility (10m)  1.684926\n",
            "5   Solar Radiation (MJ/m2)  1.948098\n",
            "6              Rainfall(mm)  1.071746\n",
            "7             Snowfall (cm)  1.124874\n",
            "8                      year  1.889844\n",
            "9                     month  1.601016\n",
            "10                  weekday  1.006452\n",
            "11            season_Autumn       inf\n",
            "12            season_Spring       inf\n",
            "13            season_Summer       inf\n",
            "14            season_Winter       inf\n",
            "15              hol_Holiday       inf\n",
            "16           hol_No Holiday       inf\n",
            "17                   fnc_No       inf\n",
            "18                  fnc_Yes       inf\n"
          ],
          "name": "stdout"
        },
        {
          "output_type": "stream",
          "text": [
            "/usr/local/lib/python3.7/dist-packages/statsmodels/stats/outliers_influence.py:185: RuntimeWarning: divide by zero encountered in double_scalars\n",
            "  vif = 1. / (1. - r_squared_i)\n"
          ],
          "name": "stderr"
        }
      ]
    },
    {
      "cell_type": "markdown",
      "metadata": {
        "id": "k805R5rtyGr7"
      },
      "source": [
        "from the above table, it seems that Temperature, Humidity, Visiblity, Dew point, holiday,func day are highly correalted."
      ]
    },
    {
      "cell_type": "code",
      "metadata": {
        "id": "b6F658wJeGTe"
      },
      "source": [
        " df.drop('Date',axis =1,inplace=True) #dropping because getting error while fitting the model"
      ],
      "execution_count": null,
      "outputs": []
    },
    {
      "cell_type": "code",
      "metadata": {
        "colab": {
          "base_uri": "https://localhost:8080/",
          "height": 282
        },
        "id": "LkOSmV9VgZRd",
        "outputId": "a4f499ba-6d06-450d-e8f2-068131ba6417"
      },
      "source": [
        "target_y = df['Rented Bike Count']\n",
        "# plotting the tragete variable to check its distribution\n",
        "target_y.hist()"
      ],
      "execution_count": null,
      "outputs": [
        {
          "output_type": "execute_result",
          "data": {
            "text/plain": [
              "<matplotlib.axes._subplots.AxesSubplot at 0x7fc1ee67de50>"
            ]
          },
          "metadata": {
            "tags": []
          },
          "execution_count": 8
        },
        {
          "output_type": "display_data",
          "data": {
            "image/png": "[encoded data removed]",
            "text/plain": [
              "<Figure size 432x288 with 1 Axes>"
            ]
          },
          "metadata": {
            "tags": [],
            "needs_background": "light"
          }
        }
      ]
    },
    {
      "cell_type": "code",
      "metadata": {
        "colab": {
          "base_uri": "https://localhost:8080/",
          "height": 282
        },
        "id": "BHWS2z07ghI9",
        "outputId": "e01b53fd-b428-412b-f812-3b32815a8676"
      },
      "source": [
        "# changing the right skewed to normal distribution.\n",
        "target_y = np.log1p(target_y)\n",
        "target_y.hist()"
      ],
      "execution_count": null,
      "outputs": [
        {
          "output_type": "execute_result",
          "data": {
            "text/plain": [
              "<matplotlib.axes._subplots.AxesSubplot at 0x7fc1edd706d0>"
            ]
          },
          "metadata": {
            "tags": []
          },
          "execution_count": 9
        },
        {
          "output_type": "display_data",
          "data": {
            "image/png": "[encoded data removed]",
            "text/plain": [
              "<Figure size 432x288 with 1 Axes>"
            ]
          },
          "metadata": {
            "tags": [],
            "needs_background": "light"
          }
        }
      ]
    },
    {
      "cell_type": "code",
      "metadata": {
        "colab": {
          "base_uri": "https://localhost:8080/",
          "height": 473
        },
        "id": "_r8_b_V8gjtd",
        "outputId": "23cec84a-ad15-471a-c78a-d69bd2dd6a0d"
      },
      "source": [
        "# Independent variable\n",
        "feature_x=df.drop('Rented Bike Count', axis = 1, inplace = False)\n",
        "feature_x"
      ],
      "execution_count": null,
      "outputs": [
        {
          "output_type": "execute_result",
          "data": {
            "text/html": [
              "<div>\n",
              "<style scoped>\n",
              "    .dataframe tbody tr th:only-of-type {\n",
              "        vertical-align: middle;\n",
              "    }\n",
              "\n",
              "    .dataframe tbody tr th {\n",
              "        vertical-align: top;\n",
              "    }\n",
              "\n",
              "    .dataframe thead th {\n",
              "        text-align: right;\n",
              "    }\n",
              "</style>\n",
              "<table border=\"1\" class=\"dataframe\">\n",
              "  <thead>\n",
              "    <tr style=\"text-align: right;\">\n",
              "      <th></th>\n",
              "      <th>Hour</th>\n",
              "      <th>Temperature(°C)</th>\n",
              "      <th>Humidity(%)</th>\n",
              "      <th>Wind speed (m/s)</th>\n",
              "      <th>Visibility (10m)</th>\n",
              "      <th>Dew point temperature(°C)</th>\n",
              "      <th>Solar Radiation (MJ/m2)</th>\n",
              "      <th>Rainfall(mm)</th>\n",
              "      <th>Snowfall (cm)</th>\n",
              "      <th>season_Autumn</th>\n",
              "      <th>season_Spring</th>\n",
              "      <th>season_Summer</th>\n",
              "      <th>season_Winter</th>\n",
              "      <th>hol_Holiday</th>\n",
              "      <th>hol_No Holiday</th>\n",
              "      <th>fnc_No</th>\n",
              "      <th>fnc_Yes</th>\n",
              "    </tr>\n",
              "  </thead>\n",
              "  <tbody>\n",
              "    <tr>\n",
              "      <th>0</th>\n",
              "      <td>0</td>\n",
              "      <td>-5.2</td>\n",
              "      <td>37</td>\n",
              "      <td>2.2</td>\n",
              "      <td>2000</td>\n",
              "      <td>-17.6</td>\n",
              "      <td>0.0</td>\n",
              "      <td>0.0</td>\n",
              "      <td>0.0</td>\n",
              "      <td>0</td>\n",
              "      <td>0</td>\n",
              "      <td>0</td>\n",
              "      <td>1</td>\n",
              "      <td>0</td>\n",
              "      <td>1</td>\n",
              "      <td>0</td>\n",
              "      <td>1</td>\n",
              "    </tr>\n",
              "    <tr>\n",
              "      <th>1</th>\n",
              "      <td>1</td>\n",
              "      <td>-5.5</td>\n",
              "      <td>38</td>\n",
              "      <td>0.8</td>\n",
              "      <td>2000</td>\n",
              "      <td>-17.6</td>\n",
              "      <td>0.0</td>\n",
              "      <td>0.0</td>\n",
              "      <td>0.0</td>\n",
              "      <td>0</td>\n",
              "      <td>0</td>\n",
              "      <td>0</td>\n",
              "      <td>1</td>\n",
              "      <td>0</td>\n",
              "      <td>1</td>\n",
              "      <td>0</td>\n",
              "      <td>1</td>\n",
              "    </tr>\n",
              "    <tr>\n",
              "      <th>2</th>\n",
              "      <td>2</td>\n",
              "      <td>-6.0</td>\n",
              "      <td>39</td>\n",
              "      <td>1.0</td>\n",
              "      <td>2000</td>\n",
              "      <td>-17.7</td>\n",
              "      <td>0.0</td>\n",
              "      <td>0.0</td>\n",
              "      <td>0.0</td>\n",
              "      <td>0</td>\n",
              "      <td>0</td>\n",
              "      <td>0</td>\n",
              "      <td>1</td>\n",
              "      <td>0</td>\n",
              "      <td>1</td>\n",
              "      <td>0</td>\n",
              "      <td>1</td>\n",
              "    </tr>\n",
              "    <tr>\n",
              "      <th>3</th>\n",
              "      <td>3</td>\n",
              "      <td>-6.2</td>\n",
              "      <td>40</td>\n",
              "      <td>0.9</td>\n",
              "      <td>2000</td>\n",
              "      <td>-17.6</td>\n",
              "      <td>0.0</td>\n",
              "      <td>0.0</td>\n",
              "      <td>0.0</td>\n",
              "      <td>0</td>\n",
              "      <td>0</td>\n",
              "      <td>0</td>\n",
              "      <td>1</td>\n",
              "      <td>0</td>\n",
              "      <td>1</td>\n",
              "      <td>0</td>\n",
              "      <td>1</td>\n",
              "    </tr>\n",
              "    <tr>\n",
              "      <th>4</th>\n",
              "      <td>4</td>\n",
              "      <td>-6.0</td>\n",
              "      <td>36</td>\n",
              "      <td>2.3</td>\n",
              "      <td>2000</td>\n",
              "      <td>-18.6</td>\n",
              "      <td>0.0</td>\n",
              "      <td>0.0</td>\n",
              "      <td>0.0</td>\n",
              "      <td>0</td>\n",
              "      <td>0</td>\n",
              "      <td>0</td>\n",
              "      <td>1</td>\n",
              "      <td>0</td>\n",
              "      <td>1</td>\n",
              "      <td>0</td>\n",
              "      <td>1</td>\n",
              "    </tr>\n",
              "    <tr>\n",
              "      <th>...</th>\n",
              "      <td>...</td>\n",
              "      <td>...</td>\n",
              "      <td>...</td>\n",
              "      <td>...</td>\n",
              "      <td>...</td>\n",
              "      <td>...</td>\n",
              "      <td>...</td>\n",
              "      <td>...</td>\n",
              "      <td>...</td>\n",
              "      <td>...</td>\n",
              "      <td>...</td>\n",
              "      <td>...</td>\n",
              "      <td>...</td>\n",
              "      <td>...</td>\n",
              "      <td>...</td>\n",
              "      <td>...</td>\n",
              "      <td>...</td>\n",
              "    </tr>\n",
              "    <tr>\n",
              "      <th>8755</th>\n",
              "      <td>19</td>\n",
              "      <td>4.2</td>\n",
              "      <td>34</td>\n",
              "      <td>2.6</td>\n",
              "      <td>1894</td>\n",
              "      <td>-10.3</td>\n",
              "      <td>0.0</td>\n",
              "      <td>0.0</td>\n",
              "      <td>0.0</td>\n",
              "      <td>1</td>\n",
              "      <td>0</td>\n",
              "      <td>0</td>\n",
              "      <td>0</td>\n",
              "      <td>0</td>\n",
              "      <td>1</td>\n",
              "      <td>0</td>\n",
              "      <td>1</td>\n",
              "    </tr>\n",
              "    <tr>\n",
              "      <th>8756</th>\n",
              "      <td>20</td>\n",
              "      <td>3.4</td>\n",
              "      <td>37</td>\n",
              "      <td>2.3</td>\n",
              "      <td>2000</td>\n",
              "      <td>-9.9</td>\n",
              "      <td>0.0</td>\n",
              "      <td>0.0</td>\n",
              "      <td>0.0</td>\n",
              "      <td>1</td>\n",
              "      <td>0</td>\n",
              "      <td>0</td>\n",
              "      <td>0</td>\n",
              "      <td>0</td>\n",
              "      <td>1</td>\n",
              "      <td>0</td>\n",
              "      <td>1</td>\n",
              "    </tr>\n",
              "    <tr>\n",
              "      <th>8757</th>\n",
              "      <td>21</td>\n",
              "      <td>2.6</td>\n",
              "      <td>39</td>\n",
              "      <td>0.3</td>\n",
              "      <td>1968</td>\n",
              "      <td>-9.9</td>\n",
              "      <td>0.0</td>\n",
              "      <td>0.0</td>\n",
              "      <td>0.0</td>\n",
              "      <td>1</td>\n",
              "      <td>0</td>\n",
              "      <td>0</td>\n",
              "      <td>0</td>\n",
              "      <td>0</td>\n",
              "      <td>1</td>\n",
              "      <td>0</td>\n",
              "      <td>1</td>\n",
              "    </tr>\n",
              "    <tr>\n",
              "      <th>8758</th>\n",
              "      <td>22</td>\n",
              "      <td>2.1</td>\n",
              "      <td>41</td>\n",
              "      <td>1.0</td>\n",
              "      <td>1859</td>\n",
              "      <td>-9.8</td>\n",
              "      <td>0.0</td>\n",
              "      <td>0.0</td>\n",
              "      <td>0.0</td>\n",
              "      <td>1</td>\n",
              "      <td>0</td>\n",
              "      <td>0</td>\n",
              "      <td>0</td>\n",
              "      <td>0</td>\n",
              "      <td>1</td>\n",
              "      <td>0</td>\n",
              "      <td>1</td>\n",
              "    </tr>\n",
              "    <tr>\n",
              "      <th>8759</th>\n",
              "      <td>23</td>\n",
              "      <td>1.9</td>\n",
              "      <td>43</td>\n",
              "      <td>1.3</td>\n",
              "      <td>1909</td>\n",
              "      <td>-9.3</td>\n",
              "      <td>0.0</td>\n",
              "      <td>0.0</td>\n",
              "      <td>0.0</td>\n",
              "      <td>1</td>\n",
              "      <td>0</td>\n",
              "      <td>0</td>\n",
              "      <td>0</td>\n",
              "      <td>0</td>\n",
              "      <td>1</td>\n",
              "      <td>0</td>\n",
              "      <td>1</td>\n",
              "    </tr>\n",
              "  </tbody>\n",
              "</table>\n",
              "<p>8760 rows × 17 columns</p>\n",
              "</div>"
            ],
            "text/plain": [
              "      Hour  Temperature(°C)  Humidity(%)  ...  hol_No Holiday  fnc_No  fnc_Yes\n",
              "0        0             -5.2           37  ...               1       0        1\n",
              "1        1             -5.5           38  ...               1       0        1\n",
              "2        2             -6.0           39  ...               1       0        1\n",
              "3        3             -6.2           40  ...               1       0        1\n",
              "4        4             -6.0           36  ...               1       0        1\n",
              "...    ...              ...          ...  ...             ...     ...      ...\n",
              "8755    19              4.2           34  ...               1       0        1\n",
              "8756    20              3.4           37  ...               1       0        1\n",
              "8757    21              2.6           39  ...               1       0        1\n",
              "8758    22              2.1           41  ...               1       0        1\n",
              "8759    23              1.9           43  ...               1       0        1\n",
              "\n",
              "[8760 rows x 17 columns]"
            ]
          },
          "metadata": {
            "tags": []
          },
          "execution_count": 10
        }
      ]
    },
    {
      "cell_type": "code",
      "metadata": {
        "id": "jcfH-AkFyfhY"
      },
      "source": [
        ""
      ],
      "execution_count": null,
      "outputs": []
    },
    {
      "cell_type": "markdown",
      "metadata": {
        "id": "vLDVLfIMgox5"
      },
      "source": [
        "Train and Test split"
      ]
    },
    {
      "cell_type": "code",
      "metadata": {
        "id": "KMwPAYp7gmMt"
      },
      "source": [
        "from sklearn.model_selection import train_test_split\n",
        "\n",
        "X_train, X_test, y_train, y_test = train_test_split(feature_x, target_y, test_size = 0.20, random_state = 0)"
      ],
      "execution_count": null,
      "outputs": []
    },
    {
      "cell_type": "markdown",
      "metadata": {
        "id": "pPoIJi4mguR5"
      },
      "source": [
        "Choose a model :\n",
        "\n",
        "1.Linear Regression.\n",
        "\n",
        "2.Decison Tree.\n",
        "\n",
        "3.Decsion Tree with GridSearch CV.\n",
        "\n",
        "4.Random Forest Regressor."
      ]
    },
    {
      "cell_type": "markdown",
      "metadata": {
        "id": "L84HSJ0gg4Wn"
      },
      "source": [
        "1.Linear Regression as base model"
      ]
    },
    {
      "cell_type": "code",
      "metadata": {
        "colab": {
          "base_uri": "https://localhost:8080/"
        },
        "id": "RFnPrukxgr9t",
        "outputId": "e792fe2c-5bd1-4c1a-d656-198fd7d0b24f"
      },
      "source": [
        "from sklearn.linear_model import LinearRegression\n",
        "\n",
        "reg = LinearRegression().fit(X_train, y_train)\n",
        "reg.score(X_train, y_train)"
      ],
      "execution_count": null,
      "outputs": [
        {
          "output_type": "execute_result",
          "data": {
            "text/plain": [
              "0.7894560757435654"
            ]
          },
          "metadata": {
            "tags": []
          },
          "execution_count": 14
        }
      ]
    },
    {
      "cell_type": "code",
      "metadata": {
        "colab": {
          "base_uri": "https://localhost:8080/"
        },
        "id": "zXB0kbKtg6qT",
        "outputId": "2c59a317-c7d6-406e-f1a6-0b5431213fc6"
      },
      "source": [
        "reg.coef_"
      ],
      "execution_count": null,
      "outputs": [
        {
          "output_type": "execute_result",
          "data": {
            "text/plain": [
              "array([ 4.09743390e-02, -3.14439766e-02, -3.73415545e-02, -1.52161920e-02,\n",
              "       -4.69103876e-06,  7.86247035e-02, -7.70174354e-03, -1.97813476e-01,\n",
              "       -1.99171603e-02, -2.96021598e-01,  2.25372036e-04, -1.21194390e-02,\n",
              "       -2.96523814e-01, -2.83853248e-01, -8.87313769e-01,  3.77327175e-01,\n",
              "        6.49537451e+00])"
            ]
          },
          "metadata": {
            "tags": []
          },
          "execution_count": 26
        }
      ]
    },
    {
      "cell_type": "code",
      "metadata": {
        "colab": {
          "base_uri": "https://localhost:8080/"
        },
        "id": "9QZgOG8Ug81d",
        "outputId": "86b6a8fb-8253-480b-bb56-f4082968c857"
      },
      "source": [
        "reg.intercept_"
      ],
      "execution_count": null,
      "outputs": [
        {
          "output_type": "execute_result",
          "data": {
            "text/plain": [
              "598.8591937982435"
            ]
          },
          "metadata": {
            "tags": []
          },
          "execution_count": 27
        }
      ]
    },
    {
      "cell_type": "code",
      "metadata": {
        "colab": {
          "base_uri": "https://localhost:8080/"
        },
        "id": "uehs4JBSg_7d",
        "outputId": "9f7937b4-5009-472d-d1be-07913c6413b7"
      },
      "source": [
        "y_pred_train = reg.predict(X_train)\n",
        "y_pred_train"
      ],
      "execution_count": null,
      "outputs": [
        {
          "output_type": "execute_result",
          "data": {
            "text/plain": [
              "array([6.07360064, 7.00471483, 5.52316604, ..., 6.78846753, 5.6146665 ,\n",
              "       5.79553513])"
            ]
          },
          "metadata": {
            "tags": []
          },
          "execution_count": 28
        }
      ]
    },
    {
      "cell_type": "code",
      "metadata": {
        "colab": {
          "base_uri": "https://localhost:8080/"
        },
        "id": "Uj6T-5sahCNc",
        "outputId": "b3388817-f6e9-47f2-8119-aafbe8a23697"
      },
      "source": [
        "y_pred_test = reg.predict(X_test)\n",
        "y_pred_test"
      ],
      "execution_count": null,
      "outputs": [
        {
          "output_type": "execute_result",
          "data": {
            "text/plain": [
              "array([5.53857067, 6.18307368, 5.45019252, ..., 5.08213022, 6.84347246,\n",
              "       5.82145067])"
            ]
          },
          "metadata": {
            "tags": []
          },
          "execution_count": 91
        }
      ]
    },
    {
      "cell_type": "code",
      "metadata": {
        "colab": {
          "base_uri": "https://localhost:8080/"
        },
        "id": "-BzhhZ13y7_y",
        "outputId": "2ff557d6-3519-4456-97f5-b3515e069960"
      },
      "source": [
        "reg.score(X_test, y_test)"
      ],
      "execution_count": null,
      "outputs": [
        {
          "output_type": "execute_result",
          "data": {
            "text/plain": [
              "0.803651791758375"
            ]
          },
          "metadata": {
            "tags": []
          },
          "execution_count": 92
        }
      ]
    },
    {
      "cell_type": "code",
      "metadata": {
        "colab": {
          "base_uri": "https://localhost:8080/"
        },
        "id": "FN8VjkTehEZd",
        "outputId": "cdf85ad4-0116-4555-f359-656940b2171f"
      },
      "source": [
        "from sklearn.metrics import r2_score, mean_squared_error\n",
        "r2 = r2_score(y_test, y_pred_test)\n",
        "print(\"r2_score :\" , r2)\n",
        "MSE  = mean_squared_error((y_test),(y_pred_test))\n",
        "print(\"MSE :\" , MSE)\n",
        "\n",
        "RMSE = np.sqrt(MSE)\n",
        "print(\"RMSE :\" ,RMSE)"
      ],
      "execution_count": null,
      "outputs": [
        {
          "output_type": "stream",
          "text": [
            "r2_score : 0.8076225040393095\n",
            "MSE : 0.5154462839524518\n",
            "RMSE : 0.7179458781499145\n"
          ],
          "name": "stdout"
        }
      ]
    },
    {
      "cell_type": "markdown",
      "metadata": {
        "id": "JAkmH1gghf1P"
      },
      "source": [
        "2.Decison Tree"
      ]
    },
    {
      "cell_type": "code",
      "metadata": {
        "id": "9_8ZELCMhIyd"
      },
      "source": [
        "from sklearn.tree import DecisionTreeRegressor\n",
        "decision_tree = DecisionTreeRegressor(max_depth=4,                       \n",
        "                           min_samples_split=5,\n",
        "                           max_leaf_nodes=10)\n"
      ],
      "execution_count": null,
      "outputs": []
    },
    {
      "cell_type": "code",
      "metadata": {
        "colab": {
          "base_uri": "https://localhost:8080/"
        },
        "id": "hS5zMgL2hj_t",
        "outputId": "43825f04-86c6-45b7-deee-be526f10db71"
      },
      "source": [
        "decision_tree"
      ],
      "execution_count": null,
      "outputs": [
        {
          "output_type": "execute_result",
          "data": {
            "text/plain": [
              "DecisionTreeRegressor(ccp_alpha=0.0, criterion='mse', max_depth=4,\n",
              "                      max_features=None, max_leaf_nodes=10,\n",
              "                      min_impurity_decrease=0.0, min_impurity_split=None,\n",
              "                      min_samples_leaf=1, min_samples_split=5,\n",
              "                      min_weight_fraction_leaf=0.0, presort='deprecated',\n",
              "                      random_state=None, splitter='best')"
            ]
          },
          "metadata": {
            "tags": []
          },
          "execution_count": 95
        }
      ]
    },
    {
      "cell_type": "code",
      "metadata": {
        "id": "uCCqc6WphmA8"
      },
      "source": [
        "model = decision_tree.fit(X_train,y_train) #drop date column to make this run because date cannot be interepreted as an integer."
      ],
      "execution_count": null,
      "outputs": []
    },
    {
      "cell_type": "code",
      "metadata": {
        "colab": {
          "base_uri": "https://localhost:8080/"
        },
        "id": "AUhQTB_ShomM",
        "outputId": "9b1ed135-bdc0-450f-d2b3-9334844171bf"
      },
      "source": [
        "y_pred_test = model.predict(X_test)\n",
        "y_pred_test"
      ],
      "execution_count": null,
      "outputs": [
        {
          "output_type": "execute_result",
          "data": {
            "text/plain": [
              "array([5.95642931, 5.95642931, 5.55207303, ..., 5.95642931, 7.03287549,\n",
              "       5.95642931])"
            ]
          },
          "metadata": {
            "tags": []
          },
          "execution_count": 102
        }
      ]
    },
    {
      "cell_type": "code",
      "metadata": {
        "colab": {
          "base_uri": "https://localhost:8080/"
        },
        "id": "LOc2tAGDhvc2",
        "outputId": "2a4bcf8c-465d-418f-cc5e-a5302d27da36"
      },
      "source": [
        "from sklearn.metrics import mean_squared_error\n",
        "MSE  = mean_squared_error((y_test), (y_pred_test))\n",
        "print(\"MSE :\" , MSE)\n",
        "RMSE = np.sqrt(MSE)\n",
        "print(\"RMSE :\" ,RMSE)"
      ],
      "execution_count": null,
      "outputs": [
        {
          "output_type": "stream",
          "text": [
            "MSE : 0.5154462839524518\n",
            "RMSE : 0.7179458781499145\n"
          ],
          "name": "stdout"
        }
      ]
    },
    {
      "cell_type": "code",
      "metadata": {
        "colab": {
          "base_uri": "https://localhost:8080/"
        },
        "id": "g9ra0wzjhv9d",
        "outputId": "5e09c174-3728-469a-9c85-5e25d4ac1bbd"
      },
      "source": [
        "decision_tree.fit(X_test,y_test)   \n",
        "print(\"R-Squared on test dataset={}\".format(decision_tree.score(X_test,y_test)))"
      ],
      "execution_count": null,
      "outputs": [
        {
          "output_type": "stream",
          "text": [
            "R-Squared on test dataset=0.8235625151075846\n"
          ],
          "name": "stdout"
        }
      ]
    },
    {
      "cell_type": "markdown",
      "metadata": {
        "id": "1sMKypH3h391"
      },
      "source": [
        "Decison Tree Visualization"
      ]
    },
    {
      "cell_type": "code",
      "metadata": {
        "colab": {
          "base_uri": "https://localhost:8080/",
          "height": 657
        },
        "id": "ctzEx3ZCh7gO",
        "outputId": "bc1e800b-fa87-4e7f-9a98-1f5f68e6f13e"
      },
      "source": [
        "# Visualizing the tree :\n",
        "# Trying to get the picture of decison tree (Incomplete)\n",
        "from sklearn.tree import export_graphviz\n",
        "import graphviz\n",
        "from sklearn import tree\n",
        "dot_data = tree.export_graphviz(decision_tree, out_file=None, \n",
        "                                feature_names=list(feature_x.columns),  \n",
        "                                class_names=target_y,\n",
        "                                filled=True)\n",
        "graph = graphviz.Source(dot_data, format=\"png\") \n",
        "graph"
      ],
      "execution_count": null,
      "outputs": [
        {
          "output_type": "execute_result",
          "data": {
            "text/plain": [
              "<graphviz.files.Source at 0x7f76d073d0d0>"
            ],
            "image/svg+xml": "<?xml version=\"1.0\" encoding=\"UTF-8\" standalone=\"no\"?>\n<!DOCTYPE svg PUBLIC \"-//W3C//DTD SVG 1.1//EN\"\n \"http://www.w3.org/Graphics/SVG/1.1/DTD/svg11.dtd\">\n<!-- Generated by graphviz version 2.40.1 (20161225.0304)\n -->\n<!-- Title: Tree Pages: 1 -->\n<svg width=\"924pt\" height=\"477pt\"\n viewBox=\"0.00 0.00 924.00 477.00\" xmlns=\"http://www.w3.org/2000/svg\" xmlns:xlink=\"http://www.w3.org/1999/xlink\">\n<g id=\"graph0\" class=\"graph\" transform=\"scale(1 1) rotate(0) translate(4 473)\">\n<title>Tree</title>\n<polygon fill=\"#ffffff\" stroke=\"transparent\" points=\"-4,4 -4,-473 920,-473 920,4 -4,4\"/>\n<!-- 0 -->\n<g id=\"node1\" class=\"node\">\n<title>0</title>\n<polygon fill=\"#e9975b\" stroke=\"#000000\" points=\"439,-469 332,-469 332,-401 439,-401 439,-469\"/>\n<text text-anchor=\"middle\" x=\"385.5\" y=\"-453.8\" font-family=\"Times,serif\" font-size=\"14.00\" fill=\"#000000\">fnc_Yes &lt;= 0.5</text>\n<text text-anchor=\"middle\" x=\"385.5\" y=\"-438.8\" font-family=\"Times,serif\" font-size=\"14.00\" fill=\"#000000\">mse = 2.679</text>\n<text text-anchor=\"middle\" x=\"385.5\" y=\"-423.8\" font-family=\"Times,serif\" font-size=\"14.00\" fill=\"#000000\">samples = 1752</text>\n<text text-anchor=\"middle\" x=\"385.5\" y=\"-408.8\" font-family=\"Times,serif\" font-size=\"14.00\" fill=\"#000000\">value = 5.825</text>\n</g>\n<!-- 1 -->\n<g id=\"node2\" class=\"node\">\n<title>1</title>\n<polygon fill=\"#ffffff\" stroke=\"#000000\" points=\"358.5,-357.5 266.5,-357.5 266.5,-304.5 358.5,-304.5 358.5,-357.5\"/>\n<text text-anchor=\"middle\" x=\"312.5\" y=\"-342.3\" font-family=\"Times,serif\" font-size=\"14.00\" fill=\"#000000\">mse = 0.0</text>\n<text text-anchor=\"middle\" x=\"312.5\" y=\"-327.3\" font-family=\"Times,serif\" font-size=\"14.00\" fill=\"#000000\">samples = 69</text>\n<text text-anchor=\"middle\" x=\"312.5\" y=\"-312.3\" font-family=\"Times,serif\" font-size=\"14.00\" fill=\"#000000\">value = 0.0</text>\n</g>\n<!-- 0&#45;&gt;1 -->\n<g id=\"edge1\" class=\"edge\">\n<title>0&#45;&gt;1</title>\n<path fill=\"none\" stroke=\"#000000\" d=\"M361.5971,-400.9465C353.7108,-389.7113 344.9303,-377.2021 337.0002,-365.9043\"/>\n<polygon fill=\"#000000\" stroke=\"#000000\" points=\"339.7405,-363.7163 331.1306,-357.5422 334.0111,-367.7379 339.7405,-363.7163\"/>\n<text text-anchor=\"middle\" x=\"326.8177\" y=\"-378.4673\" font-family=\"Times,serif\" font-size=\"14.00\" fill=\"#000000\">True</text>\n</g>\n<!-- 2 -->\n<g id=\"node3\" class=\"node\">\n<title>2</title>\n<polygon fill=\"#e99254\" stroke=\"#000000\" points=\"540,-365 377,-365 377,-297 540,-297 540,-365\"/>\n<text text-anchor=\"middle\" x=\"458.5\" y=\"-349.8\" font-family=\"Times,serif\" font-size=\"14.00\" fill=\"#000000\">Temperature(°C) &lt;= 9.45</text>\n<text text-anchor=\"middle\" x=\"458.5\" y=\"-334.8\" font-family=\"Times,serif\" font-size=\"14.00\" fill=\"#000000\">mse = 1.341</text>\n<text text-anchor=\"middle\" x=\"458.5\" y=\"-319.8\" font-family=\"Times,serif\" font-size=\"14.00\" fill=\"#000000\">samples = 1683</text>\n<text text-anchor=\"middle\" x=\"458.5\" y=\"-304.8\" font-family=\"Times,serif\" font-size=\"14.00\" fill=\"#000000\">value = 6.064</text>\n</g>\n<!-- 0&#45;&gt;2 -->\n<g id=\"edge2\" class=\"edge\">\n<title>0&#45;&gt;2</title>\n<path fill=\"none\" stroke=\"#000000\" d=\"M409.4029,-400.9465C415.5791,-392.1475 422.3038,-382.5672 428.739,-373.3993\"/>\n<polygon fill=\"#000000\" stroke=\"#000000\" points=\"431.6629,-375.3258 434.5434,-365.13 425.9334,-371.3041 431.6629,-375.3258\"/>\n<text text-anchor=\"middle\" x=\"438.8563\" y=\"-386.0552\" font-family=\"Times,serif\" font-size=\"14.00\" fill=\"#000000\">False</text>\n</g>\n<!-- 3 -->\n<g id=\"node4\" class=\"node\">\n<title>3</title>\n<polygon fill=\"#eb9f67\" stroke=\"#000000\" points=\"420.5,-261 320.5,-261 320.5,-193 420.5,-193 420.5,-261\"/>\n<text text-anchor=\"middle\" x=\"370.5\" y=\"-245.8\" font-family=\"Times,serif\" font-size=\"14.00\" fill=\"#000000\">Hour &lt;= 7.5</text>\n<text text-anchor=\"middle\" x=\"370.5\" y=\"-230.8\" font-family=\"Times,serif\" font-size=\"14.00\" fill=\"#000000\">mse = 0.906</text>\n<text text-anchor=\"middle\" x=\"370.5\" y=\"-215.8\" font-family=\"Times,serif\" font-size=\"14.00\" fill=\"#000000\">samples = 684</text>\n<text text-anchor=\"middle\" x=\"370.5\" y=\"-200.8\" font-family=\"Times,serif\" font-size=\"14.00\" fill=\"#000000\">value = 5.376</text>\n</g>\n<!-- 2&#45;&gt;3 -->\n<g id=\"edge3\" class=\"edge\">\n<title>2&#45;&gt;3</title>\n<path fill=\"none\" stroke=\"#000000\" d=\"M429.6855,-296.9465C422.0883,-287.968 413.8026,-278.1758 405.9018,-268.8385\"/>\n<polygon fill=\"#000000\" stroke=\"#000000\" points=\"408.5105,-266.5031 399.3792,-261.13 403.1668,-271.0247 408.5105,-266.5031\"/>\n</g>\n<!-- 4 -->\n<g id=\"node11\" class=\"node\">\n<title>4</title>\n<polygon fill=\"#e78a47\" stroke=\"#000000\" points=\"618,-261 475,-261 475,-193 618,-193 618,-261\"/>\n<text text-anchor=\"middle\" x=\"546.5\" y=\"-245.8\" font-family=\"Times,serif\" font-size=\"14.00\" fill=\"#000000\">Rainfall(mm) &lt;= 0.05</text>\n<text text-anchor=\"middle\" x=\"546.5\" y=\"-230.8\" font-family=\"Times,serif\" font-size=\"14.00\" fill=\"#000000\">mse = 1.093</text>\n<text text-anchor=\"middle\" x=\"546.5\" y=\"-215.8\" font-family=\"Times,serif\" font-size=\"14.00\" fill=\"#000000\">samples = 999</text>\n<text text-anchor=\"middle\" x=\"546.5\" y=\"-200.8\" font-family=\"Times,serif\" font-size=\"14.00\" fill=\"#000000\">value = 6.535</text>\n</g>\n<!-- 2&#45;&gt;4 -->\n<g id=\"edge10\" class=\"edge\">\n<title>2&#45;&gt;4</title>\n<path fill=\"none\" stroke=\"#000000\" d=\"M487.3145,-296.9465C494.9117,-287.968 503.1974,-278.1758 511.0982,-268.8385\"/>\n<polygon fill=\"#000000\" stroke=\"#000000\" points=\"513.8332,-271.0247 517.6208,-261.13 508.4895,-266.5031 513.8332,-271.0247\"/>\n</g>\n<!-- 9 -->\n<g id=\"node5\" class=\"node\">\n<title>9</title>\n<polygon fill=\"#eda978\" stroke=\"#000000\" points=\"215.5,-157 115.5,-157 115.5,-89 215.5,-89 215.5,-157\"/>\n<text text-anchor=\"middle\" x=\"165.5\" y=\"-141.8\" font-family=\"Times,serif\" font-size=\"14.00\" fill=\"#000000\">Hour &lt;= 2.5</text>\n<text text-anchor=\"middle\" x=\"165.5\" y=\"-126.8\" font-family=\"Times,serif\" font-size=\"14.00\" fill=\"#000000\">mse = 0.816</text>\n<text text-anchor=\"middle\" x=\"165.5\" y=\"-111.8\" font-family=\"Times,serif\" font-size=\"14.00\" fill=\"#000000\">samples = 246</text>\n<text text-anchor=\"middle\" x=\"165.5\" y=\"-96.8\" font-family=\"Times,serif\" font-size=\"14.00\" fill=\"#000000\">value = 4.774</text>\n</g>\n<!-- 3&#45;&gt;9 -->\n<g id=\"edge4\" class=\"edge\">\n<title>3&#45;&gt;9</title>\n<path fill=\"none\" stroke=\"#000000\" d=\"M320.3514,-201.5587C291.5622,-186.9535 255.2411,-168.5272 225.0122,-153.1915\"/>\n<polygon fill=\"#000000\" stroke=\"#000000\" points=\"226.343,-149.9421 215.8414,-148.5391 223.1759,-156.1847 226.343,-149.9421\"/>\n</g>\n<!-- 10 -->\n<g id=\"node8\" class=\"node\">\n<title>10</title>\n<polygon fill=\"#ea985e\" stroke=\"#000000\" points=\"446.5,-157 294.5,-157 294.5,-89 446.5,-89 446.5,-157\"/>\n<text text-anchor=\"middle\" x=\"370.5\" y=\"-141.8\" font-family=\"Times,serif\" font-size=\"14.00\" fill=\"#000000\">season_Autumn &lt;= 0.5</text>\n<text text-anchor=\"middle\" x=\"370.5\" y=\"-126.8\" font-family=\"Times,serif\" font-size=\"14.00\" fill=\"#000000\">mse = 0.638</text>\n<text text-anchor=\"middle\" x=\"370.5\" y=\"-111.8\" font-family=\"Times,serif\" font-size=\"14.00\" fill=\"#000000\">samples = 438</text>\n<text text-anchor=\"middle\" x=\"370.5\" y=\"-96.8\" font-family=\"Times,serif\" font-size=\"14.00\" fill=\"#000000\">value = 5.714</text>\n</g>\n<!-- 3&#45;&gt;10 -->\n<g id=\"edge7\" class=\"edge\">\n<title>3&#45;&gt;10</title>\n<path fill=\"none\" stroke=\"#000000\" d=\"M370.5,-192.9465C370.5,-184.776 370.5,-175.9318 370.5,-167.3697\"/>\n<polygon fill=\"#000000\" stroke=\"#000000\" points=\"374.0001,-167.13 370.5,-157.13 367.0001,-167.13 374.0001,-167.13\"/>\n</g>\n<!-- 13 -->\n<g id=\"node6\" class=\"node\">\n<title>13</title>\n<polygon fill=\"#eb9f69\" stroke=\"#000000\" points=\"97,-53 0,-53 0,0 97,0 97,-53\"/>\n<text text-anchor=\"middle\" x=\"48.5\" y=\"-37.8\" font-family=\"Times,serif\" font-size=\"14.00\" fill=\"#000000\">mse = 0.459</text>\n<text text-anchor=\"middle\" x=\"48.5\" y=\"-22.8\" font-family=\"Times,serif\" font-size=\"14.00\" fill=\"#000000\">samples = 82</text>\n<text text-anchor=\"middle\" x=\"48.5\" y=\"-7.8\" font-family=\"Times,serif\" font-size=\"14.00\" fill=\"#000000\">value = 5.338</text>\n</g>\n<!-- 9&#45;&gt;13 -->\n<g id=\"edge5\" class=\"edge\">\n<title>9&#45;&gt;13</title>\n<path fill=\"none\" stroke=\"#000000\" d=\"M124.2502,-88.9777C112.7039,-79.4545 100.1729,-69.1191 88.689,-59.6473\"/>\n<polygon fill=\"#000000\" stroke=\"#000000\" points=\"90.8724,-56.9113 80.9308,-53.2485 86.4184,-62.3115 90.8724,-56.9113\"/>\n</g>\n<!-- 14 -->\n<g id=\"node7\" class=\"node\">\n<title>14</title>\n<polygon fill=\"#eeae80\" stroke=\"#000000\" points=\"215.5,-53 115.5,-53 115.5,0 215.5,0 215.5,-53\"/>\n<text text-anchor=\"middle\" x=\"165.5\" y=\"-37.8\" font-family=\"Times,serif\" font-size=\"14.00\" fill=\"#000000\">mse = 0.756</text>\n<text text-anchor=\"middle\" x=\"165.5\" y=\"-22.8\" font-family=\"Times,serif\" font-size=\"14.00\" fill=\"#000000\">samples = 164</text>\n<text text-anchor=\"middle\" x=\"165.5\" y=\"-7.8\" font-family=\"Times,serif\" font-size=\"14.00\" fill=\"#000000\">value = 4.491</text>\n</g>\n<!-- 9&#45;&gt;14 -->\n<g id=\"edge6\" class=\"edge\">\n<title>9&#45;&gt;14</title>\n<path fill=\"none\" stroke=\"#000000\" d=\"M165.5,-88.9777C165.5,-80.7364 165.5,-71.887 165.5,-63.5153\"/>\n<polygon fill=\"#000000\" stroke=\"#000000\" points=\"169.0001,-63.2484 165.5,-53.2485 162.0001,-63.2485 169.0001,-63.2484\"/>\n</g>\n<!-- 11 -->\n<g id=\"node9\" class=\"node\">\n<title>11</title>\n<polygon fill=\"#ea9b62\" stroke=\"#000000\" points=\"333.5,-53 233.5,-53 233.5,0 333.5,0 333.5,-53\"/>\n<text text-anchor=\"middle\" x=\"283.5\" y=\"-37.8\" font-family=\"Times,serif\" font-size=\"14.00\" fill=\"#000000\">mse = 0.496</text>\n<text text-anchor=\"middle\" x=\"283.5\" y=\"-22.8\" font-family=\"Times,serif\" font-size=\"14.00\" fill=\"#000000\">samples = 379</text>\n<text text-anchor=\"middle\" x=\"283.5\" y=\"-7.8\" font-family=\"Times,serif\" font-size=\"14.00\" fill=\"#000000\">value = 5.559</text>\n</g>\n<!-- 10&#45;&gt;11 -->\n<g id=\"edge8\" class=\"edge\">\n<title>10&#45;&gt;11</title>\n<path fill=\"none\" stroke=\"#000000\" d=\"M339.8271,-88.9777C331.5715,-79.8207 322.6391,-69.9129 314.3728,-60.744\"/>\n<polygon fill=\"#000000\" stroke=\"#000000\" points=\"316.9108,-58.3321 307.6152,-53.2485 311.7117,-63.0193 316.9108,-58.3321\"/>\n</g>\n<!-- 12 -->\n<g id=\"node10\" class=\"node\">\n<title>12</title>\n<polygon fill=\"#e68742\" stroke=\"#000000\" points=\"449,-53 352,-53 352,0 449,0 449,-53\"/>\n<text text-anchor=\"middle\" x=\"400.5\" y=\"-37.8\" font-family=\"Times,serif\" font-size=\"14.00\" fill=\"#000000\">mse = 0.411</text>\n<text text-anchor=\"middle\" x=\"400.5\" y=\"-22.8\" font-family=\"Times,serif\" font-size=\"14.00\" fill=\"#000000\">samples = 59</text>\n<text text-anchor=\"middle\" x=\"400.5\" y=\"-7.8\" font-family=\"Times,serif\" font-size=\"14.00\" fill=\"#000000\">value = 6.708</text>\n</g>\n<!-- 10&#45;&gt;12 -->\n<g id=\"edge9\" class=\"edge\">\n<title>10&#45;&gt;12</title>\n<path fill=\"none\" stroke=\"#000000\" d=\"M381.0769,-88.9777C383.6959,-80.5533 386.5124,-71.4934 389.1659,-62.9579\"/>\n<polygon fill=\"#000000\" stroke=\"#000000\" points=\"392.5579,-63.8367 392.1844,-53.2485 385.8735,-61.7586 392.5579,-63.8367\"/>\n</g>\n<!-- 5 -->\n<g id=\"node12\" class=\"node\">\n<title>5</title>\n<polygon fill=\"#e68642\" stroke=\"#000000\" points=\"596.5,-157 496.5,-157 496.5,-89 596.5,-89 596.5,-157\"/>\n<text text-anchor=\"middle\" x=\"546.5\" y=\"-141.8\" font-family=\"Times,serif\" font-size=\"14.00\" fill=\"#000000\">Hour &lt;= 6.5</text>\n<text text-anchor=\"middle\" x=\"546.5\" y=\"-126.8\" font-family=\"Times,serif\" font-size=\"14.00\" fill=\"#000000\">mse = 0.644</text>\n<text text-anchor=\"middle\" x=\"546.5\" y=\"-111.8\" font-family=\"Times,serif\" font-size=\"14.00\" fill=\"#000000\">samples = 915</text>\n<text text-anchor=\"middle\" x=\"546.5\" y=\"-96.8\" font-family=\"Times,serif\" font-size=\"14.00\" fill=\"#000000\">value = 6.718</text>\n</g>\n<!-- 4&#45;&gt;5 -->\n<g id=\"edge11\" class=\"edge\">\n<title>4&#45;&gt;5</title>\n<path fill=\"none\" stroke=\"#000000\" d=\"M546.5,-192.9465C546.5,-184.776 546.5,-175.9318 546.5,-167.3697\"/>\n<polygon fill=\"#000000\" stroke=\"#000000\" points=\"550.0001,-167.13 546.5,-157.13 543.0001,-167.13 550.0001,-167.13\"/>\n</g>\n<!-- 6 -->\n<g id=\"node15\" class=\"node\">\n<title>6</title>\n<polygon fill=\"#eeae7f\" stroke=\"#000000\" points=\"837.5,-157 667.5,-157 667.5,-89 837.5,-89 837.5,-157\"/>\n<text text-anchor=\"middle\" x=\"752.5\" y=\"-141.8\" font-family=\"Times,serif\" font-size=\"14.00\" fill=\"#000000\">Temperature(°C) &lt;= 25.45</text>\n<text text-anchor=\"middle\" x=\"752.5\" y=\"-126.8\" font-family=\"Times,serif\" font-size=\"14.00\" fill=\"#000000\">mse = 1.62</text>\n<text text-anchor=\"middle\" x=\"752.5\" y=\"-111.8\" font-family=\"Times,serif\" font-size=\"14.00\" fill=\"#000000\">samples = 84</text>\n<text text-anchor=\"middle\" x=\"752.5\" y=\"-96.8\" font-family=\"Times,serif\" font-size=\"14.00\" fill=\"#000000\">value = 4.533</text>\n</g>\n<!-- 4&#45;&gt;6 -->\n<g id=\"edge14\" class=\"edge\">\n<title>4&#45;&gt;6</title>\n<path fill=\"none\" stroke=\"#000000\" d=\"M613.9521,-192.9465C633.7817,-182.9354 655.6149,-171.9129 675.9688,-161.6371\"/>\n<polygon fill=\"#000000\" stroke=\"#000000\" points=\"677.5469,-164.7612 684.8964,-157.13 674.3921,-158.5124 677.5469,-164.7612\"/>\n</g>\n<!-- 7 -->\n<g id=\"node13\" class=\"node\">\n<title>7</title>\n<polygon fill=\"#e99559\" stroke=\"#000000\" points=\"567.5,-53 467.5,-53 467.5,0 567.5,0 567.5,-53\"/>\n<text text-anchor=\"middle\" x=\"517.5\" y=\"-37.8\" font-family=\"Times,serif\" font-size=\"14.00\" fill=\"#000000\">mse = 0.53</text>\n<text text-anchor=\"middle\" x=\"517.5\" y=\"-22.8\" font-family=\"Times,serif\" font-size=\"14.00\" fill=\"#000000\">samples = 246</text>\n<text text-anchor=\"middle\" x=\"517.5\" y=\"-7.8\" font-family=\"Times,serif\" font-size=\"14.00\" fill=\"#000000\">value = 5.888</text>\n</g>\n<!-- 5&#45;&gt;7 -->\n<g id=\"edge12\" class=\"edge\">\n<title>5&#45;&gt;7</title>\n<path fill=\"none\" stroke=\"#000000\" d=\"M536.2757,-88.9777C533.744,-80.5533 531.0213,-71.4934 528.4563,-62.9579\"/>\n<polygon fill=\"#000000\" stroke=\"#000000\" points=\"531.7684,-61.818 525.5384,-53.2485 525.0646,-63.8327 531.7684,-61.818\"/>\n</g>\n<!-- 8 -->\n<g id=\"node14\" class=\"node\">\n<title>8</title>\n<polygon fill=\"#e58139\" stroke=\"#000000\" points=\"685.5,-53 585.5,-53 585.5,0 685.5,0 685.5,-53\"/>\n<text text-anchor=\"middle\" x=\"635.5\" y=\"-37.8\" font-family=\"Times,serif\" font-size=\"14.00\" fill=\"#000000\">mse = 0.339</text>\n<text text-anchor=\"middle\" x=\"635.5\" y=\"-22.8\" font-family=\"Times,serif\" font-size=\"14.00\" fill=\"#000000\">samples = 669</text>\n<text text-anchor=\"middle\" x=\"635.5\" y=\"-7.8\" font-family=\"Times,serif\" font-size=\"14.00\" fill=\"#000000\">value = 7.023</text>\n</g>\n<!-- 5&#45;&gt;8 -->\n<g id=\"edge13\" class=\"edge\">\n<title>5&#45;&gt;8</title>\n<path fill=\"none\" stroke=\"#000000\" d=\"M577.8781,-88.9777C586.3234,-79.8207 595.4611,-69.9129 603.9175,-60.744\"/>\n<polygon fill=\"#000000\" stroke=\"#000000\" points=\"606.6236,-62.9723 610.8304,-53.2485 601.4779,-58.2266 606.6236,-62.9723\"/>\n</g>\n<!-- 15 -->\n<g id=\"node16\" class=\"node\">\n<title>15</title>\n<polygon fill=\"#efb387\" stroke=\"#000000\" points=\"801,-53 704,-53 704,0 801,0 801,-53\"/>\n<text text-anchor=\"middle\" x=\"752.5\" y=\"-37.8\" font-family=\"Times,serif\" font-size=\"14.00\" fill=\"#000000\">mse = 1.285</text>\n<text text-anchor=\"middle\" x=\"752.5\" y=\"-22.8\" font-family=\"Times,serif\" font-size=\"14.00\" fill=\"#000000\">samples = 72</text>\n<text text-anchor=\"middle\" x=\"752.5\" y=\"-7.8\" font-family=\"Times,serif\" font-size=\"14.00\" fill=\"#000000\">value = 4.256</text>\n</g>\n<!-- 6&#45;&gt;15 -->\n<g id=\"edge15\" class=\"edge\">\n<title>6&#45;&gt;15</title>\n<path fill=\"none\" stroke=\"#000000\" d=\"M752.5,-88.9777C752.5,-80.7364 752.5,-71.887 752.5,-63.5153\"/>\n<polygon fill=\"#000000\" stroke=\"#000000\" points=\"756.0001,-63.2484 752.5,-53.2485 749.0001,-63.2485 756.0001,-63.2484\"/>\n</g>\n<!-- 16 -->\n<g id=\"node17\" class=\"node\">\n<title>16</title>\n<polygon fill=\"#e89050\" stroke=\"#000000\" points=\"916,-53 819,-53 819,0 916,0 916,-53\"/>\n<text text-anchor=\"middle\" x=\"867.5\" y=\"-37.8\" font-family=\"Times,serif\" font-size=\"14.00\" fill=\"#000000\">mse = 0.397</text>\n<text text-anchor=\"middle\" x=\"867.5\" y=\"-22.8\" font-family=\"Times,serif\" font-size=\"14.00\" fill=\"#000000\">samples = 12</text>\n<text text-anchor=\"middle\" x=\"867.5\" y=\"-7.8\" font-family=\"Times,serif\" font-size=\"14.00\" fill=\"#000000\">value = 6.198</text>\n</g>\n<!-- 6&#45;&gt;16 -->\n<g id=\"edge16\" class=\"edge\">\n<title>6&#45;&gt;16</title>\n<path fill=\"none\" stroke=\"#000000\" d=\"M793.0447,-88.9777C804.2845,-79.546 816.4736,-69.3178 827.6721,-59.9208\"/>\n<polygon fill=\"#000000\" stroke=\"#000000\" points=\"830.213,-62.3576 835.6236,-53.2485 825.7134,-56.9954 830.213,-62.3576\"/>\n</g>\n</g>\n</svg>\n"
          },
          "metadata": {
            "tags": []
          },
          "execution_count": 105
        }
      ]
    },
    {
      "cell_type": "markdown",
      "metadata": {
        "id": "clclwZk_iCRY"
      },
      "source": [
        "3.Decison Tree - Hyperparameter tuning with GridSearchCV"
      ]
    },
    {
      "cell_type": "code",
      "metadata": {
        "id": "GqQwjvyPh-JL"
      },
      "source": [
        "# Finding best parameters for decision tree\n",
        "tree_regg = DecisionTreeRegressor(random_state=0)\n",
        "tree_param = {'max_depth':np.arange(1,50,2),'min_samples_leaf':np.arange(2,15)}"
      ],
      "execution_count": null,
      "outputs": []
    },
    {
      "cell_type": "code",
      "metadata": {
        "id": "KrM4gsTXiG87"
      },
      "source": [
        "\n",
        "from sklearn.model_selection import GridSearchCV\n",
        "grid_search = GridSearchCV(tree_regg,tree_param,cv=3)\n",
        "grid_search.fit(X_train,y_train)\n",
        "best_param = grid_search.best_params_"
      ],
      "execution_count": null,
      "outputs": []
    },
    {
      "cell_type": "code",
      "metadata": {
        "id": "hzsQ0SRHiJu7"
      },
      "source": [
        "# Training with best parameters\n",
        "from sklearn.tree import DecisionTreeRegressor\n",
        "tree_regg =DecisionTreeRegressor(max_depth=best_param['max_depth'],min_samples_leaf= best_param['min_samples_leaf'])\n",
        "model = tree_regg.fit(X_train,y_train)\n",
        "y_pred = model.predict(X_test)\n"
      ],
      "execution_count": null,
      "outputs": []
    },
    {
      "cell_type": "code",
      "metadata": {
        "colab": {
          "base_uri": "https://localhost:8080/"
        },
        "id": "Etq9Ou5eia8M",
        "outputId": "22d40596-3b4d-4ba0-e101-52d6e1f69185"
      },
      "source": [
        "from sklearn.metrics import mean_squared_error\n",
        "MSE  = mean_squared_error((y_test), (y_pred))\n",
        "print(\"MSE :\" , MSE)\n",
        "RMSE = np.sqrt(MSE)\n",
        "print(\"RMSE :\" ,RMSE)"
      ],
      "execution_count": null,
      "outputs": [
        {
          "output_type": "stream",
          "text": [
            "MSE : 0.27065563683158056\n",
            "RMSE : 0.5202457465771158\n"
          ],
          "name": "stdout"
        }
      ]
    },
    {
      "cell_type": "code",
      "metadata": {
        "colab": {
          "base_uri": "https://localhost:8080/"
        },
        "id": "akeOKVdSiewr",
        "outputId": "14f9294e-2e37-404f-e0af-d9ea466c4094"
      },
      "source": [
        "print(\"R-Squared on train dataset={}\".format(tree_regg.score(X_train,y_train)))\n",
        "print(\"R-Squared on test dataset={}\".format(tree_regg.score(X_test,y_test)))\n"
      ],
      "execution_count": null,
      "outputs": [
        {
          "output_type": "stream",
          "text": [
            "R-Squared on train dataset=0.9528924379685562\n",
            "R-Squared on test dataset=0.8989845202063604\n"
          ],
          "name": "stdout"
        }
      ]
    },
    {
      "cell_type": "markdown",
      "metadata": {
        "id": "GsiXmSdAivaN"
      },
      "source": [
        "4.Random Forest regressor"
      ]
    },
    {
      "cell_type": "code",
      "metadata": {
        "colab": {
          "base_uri": "https://localhost:8080/"
        },
        "id": "7QAkRBOUirWr",
        "outputId": "cb457502-c328-424f-a8b6-53cc084880ba"
      },
      "source": [
        "from sklearn.ensemble import RandomForestRegressor\n",
        "#Random Forest Regressor.\n",
        "forest = RandomForestRegressor()           \n",
        "# n_estimators = number of trees in the foreset\n",
        "n_estimators = [500]    \n",
        "\n",
        "# max_features = max number of features considered for splitting a node:\n",
        "# If “auto”, then max_features=sqrt(n_features).\n",
        "# If “sqrt”, then max_features=sqrt(n_features) (same as “auto”).\n",
        "# # If “log2”, then max_features=log2(n_features).\n",
        "max_features = [\"auto\",'sqrt','log2']\n",
        "\n",
        "#applying grisd search on forest:\n",
        "# Specify the grid serach params\n",
        "grid_search_forest = {'n_estimators' : n_estimators, 'max_features' : max_features}\n",
        "#grid search\n",
        "rand_search_forest = GridSearchCV(forest, grid_search_forest, cv = 4, \n",
        "                                         refit = True, n_jobs = -1, verbose=2)\n",
        "\n",
        "rand_search_forest.fit(X_train, y_train)"
      ],
      "execution_count": null,
      "outputs": [
        {
          "output_type": "stream",
          "text": [
            "Fitting 4 folds for each of 3 candidates, totalling 12 fits\n"
          ],
          "name": "stdout"
        },
        {
          "output_type": "stream",
          "text": [
            "[Parallel(n_jobs=-1)]: Using backend LokyBackend with 2 concurrent workers.\n",
            "[Parallel(n_jobs=-1)]: Done  12 out of  12 | elapsed:  1.2min finished\n"
          ],
          "name": "stderr"
        },
        {
          "output_type": "execute_result",
          "data": {
            "text/plain": [
              "GridSearchCV(cv=4, error_score=nan,\n",
              "             estimator=RandomForestRegressor(bootstrap=True, ccp_alpha=0.0,\n",
              "                                             criterion='mse', max_depth=None,\n",
              "                                             max_features='auto',\n",
              "                                             max_leaf_nodes=None,\n",
              "                                             max_samples=None,\n",
              "                                             min_impurity_decrease=0.0,\n",
              "                                             min_impurity_split=None,\n",
              "                                             min_samples_leaf=1,\n",
              "                                             min_samples_split=2,\n",
              "                                             min_weight_fraction_leaf=0.0,\n",
              "                                             n_estimators=100, n_jobs=None,\n",
              "                                             oob_score=False, random_state=None,\n",
              "                                             verbose=0, warm_start=False),\n",
              "             iid='deprecated', n_jobs=-1,\n",
              "             param_grid={'max_features': ['auto', 'sqrt', 'log2'],\n",
              "                         'n_estimators': [500]},\n",
              "             pre_dispatch='2*n_jobs', refit=True, return_train_score=False,\n",
              "             scoring=None, verbose=2)"
            ]
          },
          "metadata": {
            "tags": []
          },
          "execution_count": 47
        }
      ]
    },
    {
      "cell_type": "code",
      "metadata": {
        "id": "tvo5X-Yhjbcu"
      },
      "source": [
        "from sklearn.metrics import mean_squared_log_error,mean_squared_error, r2_score,mean_absolute_error\n",
        "random_estimator = rand_search_forest.best_estimator_\n",
        "\n",
        "y_pred_train= random_estimator.predict(X_train)"
      ],
      "execution_count": null,
      "outputs": []
    },
    {
      "cell_type": "code",
      "metadata": {
        "colab": {
          "base_uri": "https://localhost:8080/"
        },
        "id": "YYuf-hM_jgsS",
        "outputId": "b038bdf5-b6ad-4e5a-ba0e-fa0b719c1dde"
      },
      "source": [
        "rf_mse = mean_squared_error(y_train, y_pred_train)\n",
        "rf_rmse = np.sqrt(rf_mse)\n",
        "print(\"Mean_Square_error is : \" ,rf_mse)\n",
        "print(\"Root Mean_Square_error is : \" ,rf_rmse)"
      ],
      "execution_count": null,
      "outputs": [
        {
          "output_type": "stream",
          "text": [
            "Mean_Square_error is :  0.27066204328580956\n",
            "Root Mean_Square_error is :  0.5202519036830231\n"
          ],
          "name": "stdout"
        }
      ]
    },
    {
      "cell_type": "code",
      "metadata": {
        "colab": {
          "base_uri": "https://localhost:8080/"
        },
        "id": "T7ljHQvjj6fa",
        "outputId": "3265805f-738c-47e6-ec27-99f50c4f0c00"
      },
      "source": [
        "random_estimator = rand_search_forest.best_estimator_\n",
        "\n",
        "y_pred_rf= random_estimator.predict(X_test)\n",
        "rf_mse = mean_squared_error(y_test, y_pred_rf)\n",
        "print(\"Mean_Square_error is : \" ,rf_mse)\n",
        "rf_rmse = np.sqrt(rf_mse)\n",
        "print(\"Root Mean_Square_error is : \" ,rf_rmse)"
      ],
      "execution_count": null,
      "outputs": [
        {
          "output_type": "stream",
          "text": [
            "Mean_Square_error is :  0.36654062953449384\n",
            "Root Mean_Square_error is :  0.6054259901379307\n"
          ],
          "name": "stdout"
        }
      ]
    },
    {
      "cell_type": "code",
      "metadata": {
        "colab": {
          "base_uri": "https://localhost:8080/"
        },
        "id": "DVKRhf0i7JQw",
        "outputId": "76aa51cd-7203-483e-d989-6cdd0d4c5c00"
      },
      "source": [
        "r2_score = (random_estimator.score(X_test,y_test))\n",
        "print(\"R Squared is : \" ,r2_score)"
      ],
      "execution_count": null,
      "outputs": [
        {
          "output_type": "stream",
          "text": [
            "R Squared is :  0.8631978332698471\n"
          ],
          "name": "stdout"
        }
      ]
    },
    {
      "cell_type": "markdown",
      "metadata": {
        "id": "ACsf5gdycLHc"
      },
      "source": [
        "Feature selection 1"
      ]
    },
    {
      "cell_type": "code",
      "metadata": {
        "colab": {
          "base_uri": "https://localhost:8080/",
          "height": 294
        },
        "id": "FMRBkkfskwcV",
        "outputId": "319abc8c-9a86-46da-c4f1-f9e97c0f410f"
      },
      "source": [
        "from sklearn.feature_selection import SelectKBest\n",
        "from sklearn.feature_selection import f_regression\n",
        "\n",
        "# feature selection\n",
        "f_selector = SelectKBest(score_func=f_regression, k='all')\n",
        "# learn relationship from training data\n",
        "f_selector.fit(X_train, y_train)\n",
        "# transform train input data\n",
        "X_train_fs = f_selector.transform(X_train)\n",
        "# transform test input data\n",
        "X_test_fs = f_selector.transform(X_test)\n",
        "# Plot the scores for the features\n",
        "plt.bar([i for i in range(len(f_selector.scores_))], f_selector.scores_)\n",
        "plt.xlabel(\"feature index\")\n",
        "plt.ylabel(\"F-value (transformed from the correlation values)\")\n",
        "plt.show()"
      ],
      "execution_count": null,
      "outputs": [
        {
          "output_type": "display_data",
          "data": {
            "image/png": "[encoded data removed]",
            "text/plain": [
              "<Figure size 432x288 with 1 Axes>"
            ]
          },
          "metadata": {
            "tags": [],
            "needs_background": "light"
          }
        }
      ]
    },
    {
      "cell_type": "code",
      "metadata": {
        "colab": {
          "base_uri": "https://localhost:8080/",
          "height": 279
        },
        "id": "6nro-211L6h6",
        "outputId": "d15096bb-d307-4340-9ba4-f33d20f90a4f"
      },
      "source": [
        "from sklearn.feature_selection import mutual_info_regression\n",
        "\n",
        "# feature selection\n",
        "f_selector = SelectKBest(score_func=mutual_info_regression, k='all')\n",
        "# learn relationship from training data\n",
        "f_selector.fit(X_train, y_train)\n",
        "# transform train input data\n",
        "X_train_fs = f_selector.transform(X_train)\n",
        "# transform test input data\n",
        "X_test_fs = f_selector.transform(X_test)\n",
        "# Plot the scores for the features\n",
        "plt.bar([i for i in range(len(f_selector.scores_))], f_selector.scores_)\n",
        "plt.xlabel(\"feature index\")\n",
        "plt.ylabel(\"Estimated MI value\")\n",
        "plt.show()"
      ],
      "execution_count": null,
      "outputs": [
        {
          "output_type": "display_data",
          "data": {
            "image/png": "[encoded data removed]",
            "text/plain": [
              "<Figure size 432x288 with 1 Axes>"
            ]
          },
          "metadata": {
            "tags": [],
            "needs_background": "light"
          }
        }
      ]
    },
    {
      "cell_type": "markdown",
      "metadata": {
        "id": "MNbeOpkR9A5_"
      },
      "source": [
        "Model Selection"
      ]
    },
    {
      "cell_type": "markdown",
      "metadata": {
        "id": "HbgzI9Fg77po"
      },
      "source": [
        "![Algorithm-Google-Docs.png](data:image/png;base64,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)"
      ]
    },
    {
      "cell_type": "code",
      "metadata": {
        "id": "NVaK_02x-w-e"
      },
      "source": [
        "#Evalution on the basis of r2_Score\n",
        "\n",
        "data = [['LR', 0.7845415853003875], ['DT',0.8286096389883596 ], ['DT_GS', 0.9569799314717041],['RF_GS', 0.8631978332698471]]\n",
        "r2 = pd.DataFrame(data, columns = ['Algorithms', 'R2_Score'])"
      ],
      "execution_count": null,
      "outputs": []
    },
    {
      "cell_type": "code",
      "metadata": {
        "colab": {
          "base_uri": "https://localhost:8080/",
          "height": 173
        },
        "id": "XnMyEvnv_JmK",
        "outputId": "7404fe1a-8406-4749-dc19-d3829e9e962a"
      },
      "source": [
        "r2"
      ],
      "execution_count": null,
      "outputs": [
        {
          "output_type": "execute_result",
          "data": {
            "text/html": [
              "<div>\n",
              "<style scoped>\n",
              "    .dataframe tbody tr th:only-of-type {\n",
              "        vertical-align: middle;\n",
              "    }\n",
              "\n",
              "    .dataframe tbody tr th {\n",
              "        vertical-align: top;\n",
              "    }\n",
              "\n",
              "    .dataframe thead th {\n",
              "        text-align: right;\n",
              "    }\n",
              "</style>\n",
              "<table border=\"1\" class=\"dataframe\">\n",
              "  <thead>\n",
              "    <tr style=\"text-align: right;\">\n",
              "      <th></th>\n",
              "      <th>Algorithms</th>\n",
              "      <th>R2_Score</th>\n",
              "    </tr>\n",
              "  </thead>\n",
              "  <tbody>\n",
              "    <tr>\n",
              "      <th>0</th>\n",
              "      <td>LR</td>\n",
              "      <td>0.784542</td>\n",
              "    </tr>\n",
              "    <tr>\n",
              "      <th>1</th>\n",
              "      <td>DT</td>\n",
              "      <td>0.828610</td>\n",
              "    </tr>\n",
              "    <tr>\n",
              "      <th>2</th>\n",
              "      <td>DT_GS</td>\n",
              "      <td>0.956980</td>\n",
              "    </tr>\n",
              "    <tr>\n",
              "      <th>3</th>\n",
              "      <td>RF_GS</td>\n",
              "      <td>0.863198</td>\n",
              "    </tr>\n",
              "  </tbody>\n",
              "</table>\n",
              "</div>"
            ],
            "text/plain": [
              "  Algorithms  R2_Score\n",
              "0         LR  0.784542\n",
              "1         DT  0.828610\n",
              "2      DT_GS  0.956980\n",
              "3      RF_GS  0.863198"
            ]
          },
          "metadata": {
            "tags": []
          },
          "execution_count": 128
        }
      ]
    },
    {
      "cell_type": "code",
      "metadata": {
        "colab": {
          "base_uri": "https://localhost:8080/",
          "height": 300
        },
        "id": "BvxU-gcj_KRj",
        "outputId": "b4567d35-27ab-4912-accd-a461bfbfe73d"
      },
      "source": [
        "sns.barplot(x = 'Algorithms', y = 'R2_Score', data = r2)"
      ],
      "execution_count": null,
      "outputs": [
        {
          "output_type": "execute_result",
          "data": {
            "text/plain": [
              "<matplotlib.axes._subplots.AxesSubplot at 0x7f76d06c02d0>"
            ]
          },
          "metadata": {
            "tags": []
          },
          "execution_count": 129
        },
        {
          "output_type": "display_data",
          "data": {
            "image/png": "[encoded data removed]",
            "text/plain": [
              "<Figure size 432x288 with 1 Axes>"
            ]
          },
          "metadata": {
            "tags": [],
            "needs_background": "light"
          }
        }
      ]
    },
    {
      "cell_type": "code",
      "metadata": {
        "id": "A39QukBa_jtt"
      },
      "source": [
        "#Evalution on the basis of Mean square error\n",
        "\n",
        "data = [['LR', 263660321930508.4], ['DT',199152677627579.84 ], ['DT_GS', 66747179216138.19],['RF_GS', 0.019395477520200422]]\n",
        "mse = pd.DataFrame(data, columns = ['Algorithms', 'MSE'])"
      ],
      "execution_count": null,
      "outputs": []
    },
    {
      "cell_type": "code",
      "metadata": {
        "colab": {
          "base_uri": "https://localhost:8080/",
          "height": 173
        },
        "id": "bauFanes_3sM",
        "outputId": "e379bcbd-565c-49ee-cb79-b0932a3f247b"
      },
      "source": [
        "mse"
      ],
      "execution_count": null,
      "outputs": [
        {
          "output_type": "execute_result",
          "data": {
            "text/html": [
              "<div>\n",
              "<style scoped>\n",
              "    .dataframe tbody tr th:only-of-type {\n",
              "        vertical-align: middle;\n",
              "    }\n",
              "\n",
              "    .dataframe tbody tr th {\n",
              "        vertical-align: top;\n",
              "    }\n",
              "\n",
              "    .dataframe thead th {\n",
              "        text-align: right;\n",
              "    }\n",
              "</style>\n",
              "<table border=\"1\" class=\"dataframe\">\n",
              "  <thead>\n",
              "    <tr style=\"text-align: right;\">\n",
              "      <th></th>\n",
              "      <th>Algorithms</th>\n",
              "      <th>MSE</th>\n",
              "    </tr>\n",
              "  </thead>\n",
              "  <tbody>\n",
              "    <tr>\n",
              "      <th>0</th>\n",
              "      <td>LR</td>\n",
              "      <td>2.636603e+14</td>\n",
              "    </tr>\n",
              "    <tr>\n",
              "      <th>1</th>\n",
              "      <td>DT</td>\n",
              "      <td>1.991527e+14</td>\n",
              "    </tr>\n",
              "    <tr>\n",
              "      <th>2</th>\n",
              "      <td>DT_GS</td>\n",
              "      <td>6.674718e+13</td>\n",
              "    </tr>\n",
              "    <tr>\n",
              "      <th>3</th>\n",
              "      <td>RF_GS</td>\n",
              "      <td>1.939548e-02</td>\n",
              "    </tr>\n",
              "  </tbody>\n",
              "</table>\n",
              "</div>"
            ],
            "text/plain": [
              "  Algorithms           MSE\n",
              "0         LR  2.636603e+14\n",
              "1         DT  1.991527e+14\n",
              "2      DT_GS  6.674718e+13\n",
              "3      RF_GS  1.939548e-02"
            ]
          },
          "metadata": {
            "tags": []
          },
          "execution_count": 131
        }
      ]
    },
    {
      "cell_type": "code",
      "metadata": {
        "colab": {
          "base_uri": "https://localhost:8080/",
          "height": 308
        },
        "id": "__8wZqYI_4_C",
        "outputId": "6e771ea6-6450-464a-8662-7ccd8a08a1f1"
      },
      "source": [
        "sns.barplot(x = 'Algorithms', y = 'MSE', data = mse)"
      ],
      "execution_count": null,
      "outputs": [
        {
          "output_type": "execute_result",
          "data": {
            "text/plain": [
              "<matplotlib.axes._subplots.AxesSubplot at 0x7f76cc5a03d0>"
            ]
          },
          "metadata": {
            "tags": []
          },
          "execution_count": 132
        },
        {
          "output_type": "display_data",
          "data": {
            "image/png": "[encoded data removed]",
            "text/plain": [
              "<Figure size 432x288 with 1 Axes>"
            ]
          },
          "metadata": {
            "tags": [],
            "needs_background": "light"
          }
        }
      ]
    },
    {
      "cell_type": "code",
      "metadata": {
        "id": "rXQIJ_Fh_-aS"
      },
      "source": [
        ""
      ],
      "execution_count": null,
      "outputs": []
    }
  ]
}